{
 "cells": [
  {
   "cell_type": "code",
   "execution_count": null,
   "id": "e4c261f2",
   "metadata": {},
   "outputs": [],
   "source": [
    "import pandas as pd\n",
    "import numpy as np\n",
    "from matplotlib import pyplot as plt\n",
    "import seaborn as sns\n",
    "import datetime\n",
    "# https://www.kaggle.com/rohanrao/air-quality-data-in-india?select=city_day.csv\n",
    "data = pd.read_csv(\"data/india/city_day.csv\")  #local.\n",
    "#!curl https://raw.githubusercontent.com/karthikeyanrathore/AQI/main/data/india/city_day.csv?token=GHSAT0AAAAAABTNEQV2U2F42YYZOVLV3ETIYSZM2EA > city_day.csv\n",
    "#data = pd.read_csv(\"/content/city_day.csv\")\n",
    "data.info()"
   ]
  },
  {
   "cell_type": "code",
   "execution_count": null,
   "id": "e4e24b7b",
   "metadata": {},
   "outputs": [],
   "source": [
    "len(data['City'].unique()) # 26 citites\n",
    "list(data['City'].unique())"
   ]
  },
  {
   "cell_type": "code",
   "execution_count": null,
   "id": "545536ee",
   "metadata": {},
   "outputs": [],
   "source": [
    "#del data['PM10']\n",
    "#del data['AQI']\n",
    "del data['AQI_Bucket']\n",
    "# why - https://smartairfilters.com/en/blog/difference-pm2-5-aqi-measurements/"
   ]
  },
  {
   "cell_type": "code",
   "execution_count": null,
   "id": "84b75753",
   "metadata": {},
   "outputs": [],
   "source": [
    "data['Date'] = pd.to_datetime(data['Date'])"
   ]
  },
  {
   "cell_type": "code",
   "execution_count": null,
   "id": "e1889144",
   "metadata": {},
   "outputs": [],
   "source": [
    "data.info()"
   ]
  },
  {
   "cell_type": "code",
   "execution_count": null,
   "id": "c98fa0b7",
   "metadata": {},
   "outputs": [],
   "source": [
    "# worst polluted city? before covid \n",
    "# Ahmedabad\n",
    "poll_city = data[data['AQI'] == 2049].dropna()\n",
    "poll_city\n",
    "\n",
    "# worst polluted city? after covid \n",
    "# Ahmedabad\n",
    "poll_city = data[data['AQI'] == 1291].dropna()\n",
    "poll_city"
   ]
  },
  {
   "cell_type": "code",
   "execution_count": null,
   "id": "099cfd10",
   "metadata": {},
   "outputs": [],
   "source": [
    "# fill nan places in data with mean.\n",
    "from sklearn.impute import SimpleImputer\n",
    "import numpy as np\n",
    "imputer = SimpleImputer(missing_values=np.nan , strategy=\"mean\")\n",
    "imputer.fit(data.iloc[:, 2:15])\n",
    "data.iloc[:, 2:15] = imputer.transform(data.iloc[:, 2:15])"
   ]
  },
  {
   "cell_type": "code",
   "execution_count": null,
   "id": "64ebbdfb",
   "metadata": {},
   "outputs": [],
   "source": [
    "data.info()"
   ]
  },
  {
   "cell_type": "code",
   "execution_count": null,
   "id": "8ae52a1e",
   "metadata": {},
   "outputs": [],
   "source": [
    "before_covid = list(filter(lambda x: x < datetime.datetime(2019, 12, 31) , data['Date'])) # 2015-2019\n",
    "covid_period = list(filter(lambda x: x > datetime.datetime(2019, 12, 31) , data['Date'])) # 2020-. () \n",
    "#len(before_covid) # 24862\n",
    "#len(covid_period) # 4646"
   ]
  },
  {
   "cell_type": "code",
   "execution_count": null,
   "id": "ea1f2652",
   "metadata": {},
   "outputs": [],
   "source": [
    "l_before = (data[data['Date'] < datetime.datetime(2019, 12, 31)]).dropna()\n",
    "l_after = (data[data['Date'] > datetime.datetime(2019, 12, 31)]).dropna()\n",
    "#len(list(filter(lambda x: x == True , l))),\n",
    "\n",
    "# find the main factors/pollutants responsible using ML.\n",
    "\n",
    "# Ozone\n",
    "print('Ozone before', max(l_before['O3'])) \n",
    "print('Ozone after', max(l_after['O3']))\n",
    "\n",
    "# AQI\n",
    "print('AQI before', max(l_before['AQI'])) \n",
    "print('AQI after', max(l_after['AQI']))\n"
   ]
  },
  {
   "cell_type": "code",
   "execution_count": null,
   "id": "253ad57e",
   "metadata": {},
   "outputs": [],
   "source": [
    "x = data.iloc[:, 2:14].values # array (PM2.5, PM10, ... Xylene)\n",
    "y = data.iloc[:, 14].values # AQI"
   ]
  },
  {
   "cell_type": "code",
   "execution_count": null,
   "id": "b4464db2",
   "metadata": {},
   "outputs": [],
   "source": [
    "# keeping it into AQI buckets\n",
    "# https://pib.gov.in/newsite/PrintRelease.aspx?relid=110654\n",
    "AQI_bucket = {'good': 0, 'satisfactory': 0, 'moderate': 0, 'poor': 0, 'very_poor': 0,'severe': 0}\n",
    "for val in y:\n",
    "  if 0 <= val <= 50:\n",
    "    AQI_bucket['good'] += 1\n",
    "  elif 51 <= val <= 100:\n",
    "    AQI_bucket['satisfactory'] += 1\n",
    "  elif 101 <= val <= 250:\n",
    "    AQI_bucket['moderate'] += 1\n",
    "  elif 251 <= val <= 350:\n",
    "    AQI_bucket['poor'] += 1\n",
    "  elif 351 <= val <= 430:\n",
    "    AQI_bucket['very_poor'] += 1\n",
    "  else:\n",
    "    AQI_bucket['severe'] += 1"
   ]
  },
  {
   "cell_type": "code",
   "execution_count": null,
   "id": "3543dfd4",
   "metadata": {},
   "outputs": [],
   "source": [
    "AQI_bucket"
   ]
  },
  {
   "cell_type": "code",
   "execution_count": null,
   "id": "3856df75",
   "metadata": {},
   "outputs": [],
   "source": [
    "from sklearn.model_selection import train_test_split\n",
    "x_train, x_test, y_train, y_test = train_test_split(x, y, test_size=0.3, random_state=1)"
   ]
  },
  {
   "cell_type": "code",
   "execution_count": null,
   "id": "2a6b1919",
   "metadata": {},
   "outputs": [],
   "source": [
    "# Feature Scaling (conv high magnitude value to small)\n",
    "# Standardisation (conv values b/w -3 & 3 more or less) \n",
    "# or Normalisation ( Conv values between 0 & 1)\n",
    "# Standardisation is more prefered. \n",
    "\n",
    "from sklearn.preprocessing import StandardScaler\n",
    "sc = StandardScaler()\n",
    "x_train[:, :] = sc.fit_transform(x_train[:, :])\n",
    "x_test[:, :] = sc.fit_transform(x_test[:, :])"
   ]
  },
  {
   "cell_type": "markdown",
   "id": "c20e1869",
   "metadata": {},
   "source": [
    "### [LinearRegression model.](https://scikit-learn.org/stable/modules/generated/sklearn.linear_model.LinearRegression.html#sklearn.linear_model.LinearRegression)"
   ]
  },
  {
   "cell_type": "code",
   "execution_count": null,
   "id": "482fe373",
   "metadata": {},
   "outputs": [],
   "source": [
    "# Simple Linear regressor\n",
    "# https://scikit-learn.org/stable/modules/generated/sklearn.linear_model.LinearRegression.html#sklearn.linear_model.LinearRegression\n",
    "from sklearn.linear_model import LinearRegression\n",
    "linear_regressor = LinearRegression()\n",
    "linear_regressor.fit(x_train, y_train)"
   ]
  },
  {
   "cell_type": "code",
   "execution_count": null,
   "id": "80261877",
   "metadata": {},
   "outputs": [],
   "source": [
    "y_pred = linear_regressor.predict(x_test)"
   ]
  },
  {
   "cell_type": "code",
   "execution_count": null,
   "id": "3b6e8e28",
   "metadata": {},
   "outputs": [],
   "source": [
    "# https://scikit-learn.org/stable/modules/classes.html#regression-metrics\n",
    "from sklearn.metrics import r2_score, mean_absolute_error\n",
    "print(\"r2_score: \", r2_score(y_test, y_pred))\n",
    "print(\"mean_absolute_error: \", mean_absolute_error(y_test, y_pred)) # . BAD"
   ]
  },
  {
   "cell_type": "code",
   "execution_count": null,
   "id": "f21ea393",
   "metadata": {},
   "outputs": [],
   "source": [
    "plt.scatter(y_test, y_pred)"
   ]
  },
  {
   "cell_type": "code",
   "execution_count": null,
   "id": "a291de99",
   "metadata": {},
   "outputs": [],
   "source": [
    "sns.displot(y_test - y_pred)"
   ]
  },
  {
   "cell_type": "code",
   "execution_count": null,
   "id": "31042aaa",
   "metadata": {},
   "outputs": [],
   "source": []
  },
  {
   "cell_type": "markdown",
   "id": "cbdee5d0",
   "metadata": {},
   "source": [
    "### [SGDRegressor model.](https://scikitlearn.org/stable/modules/generated/sklearn.linear_model.SGDRegressor.html#sklearn.linear_model.SGDRegressor)"
   ]
  },
  {
   "cell_type": "code",
   "execution_count": null,
   "id": "9357d703",
   "metadata": {},
   "outputs": [],
   "source": [
    "from sklearn.linear_model import SGDRegressor\n",
    "sdg_regressor = SGDRegressor(max_iter=6000, alpha=0.0005, tol=1e-3)\n",
    "sdg_regressor.fit(x_train, y_train)"
   ]
  },
  {
   "cell_type": "code",
   "execution_count": null,
   "id": "bc38fc30",
   "metadata": {},
   "outputs": [],
   "source": [
    "y_pred = sdg_regressor.predict(x_test)"
   ]
  },
  {
   "cell_type": "code",
   "execution_count": null,
   "id": "2712247c",
   "metadata": {},
   "outputs": [],
   "source": [
    "# https://scikit-learn.org/stable/modules/classes.html#regression-metrics\n",
    "from sklearn.metrics import r2_score\n",
    "print(\"r2_score: \", r2_score(y_test, y_pred))\n",
    "print(\"mean_absolute_error: \", mean_absolute_error(y_test, y_pred))"
   ]
  },
  {
   "cell_type": "code",
   "execution_count": null,
   "id": "7560806b",
   "metadata": {},
   "outputs": [],
   "source": []
  },
  {
   "cell_type": "markdown",
   "id": "1730009f",
   "metadata": {},
   "source": [
    "### [XG Boost Regressor model.](https://xgboost.readthedocs.io/en/stable/python/python_api.html#module-xgboost.sklearn)"
   ]
  },
  {
   "cell_type": "code",
   "execution_count": null,
   "id": "4bb94d24",
   "metadata": {},
   "outputs": [],
   "source": [
    "from xgboost import XGBRegressor\n",
    "xgb_regressor = XGBRegressor()"
   ]
  },
  {
   "cell_type": "code",
   "execution_count": null,
   "id": "d9c6cd6f",
   "metadata": {},
   "outputs": [],
   "source": [
    "# in order to find the best parameters for XGBRegressor.\n",
    "# we can use grid search CV https://scikit-learn.org/stable/modules/generated/sklearn.model_selection.GridSearchCV.html\n",
    "# or randomised search CV https://scikit-learn.org/stable/modules/generated/sklearn.model_selection.RandomizedSearchCV.html"
   ]
  },
  {
   "cell_type": "code",
   "execution_count": null,
   "id": "9dd25ebe",
   "metadata": {},
   "outputs": [],
   "source": [
    "from sklearn.model_selection import RandomizedSearchCV"
   ]
  },
  {
   "cell_type": "code",
   "execution_count": null,
   "id": "6936495f",
   "metadata": {},
   "outputs": [],
   "source": [
    "# define param for XGBRegressor\n",
    "\n",
    "n_estimators = [int(x) for x in np.linspace(start=100, stop=1200, num=12)]\n",
    "\n",
    "learning_rate = ['0.05', '0.1', '0.2', '0.3', '0.5', '0.6']\n",
    "\n",
    "max_depth = [int(x) for x in np.linspace(start=5, stop=30, num=6)]\n",
    "\n",
    "subsample = [0.7, 0.6, 0.8]\n",
    "\n",
    "min_child_weight = [3, 4, 5, 6, 7]"
   ]
  },
  {
   "cell_type": "code",
   "execution_count": null,
   "id": "2b966e49",
   "metadata": {},
   "outputs": [],
   "source": [
    "param = {\n",
    "  'n_estimators': n_estimators,\n",
    "  'learning_rate': learning_rate,\n",
    "  'max_depth': max_depth,\n",
    "  'subsample': subsample,\n",
    "  'min_child_weight': min_child_weight\n",
    "}"
   ]
  },
  {
   "cell_type": "code",
   "execution_count": null,
   "id": "b2f08e42",
   "metadata": {},
   "outputs": [],
   "source": [
    "# scoring=r2_square error use 'r2' \n",
    "# https://scikit-learn.org/stable/modules/model_evaluation.html#common-cases-predefined-values\n",
    "xgb_select_param = RandomizedSearchCV(estimator=xgb_regressor, \n",
    "                                      param_distributions=param,\n",
    "                                      scoring='r2',\n",
    "                                      n_iter=10,\n",
    "                                      cv=5,\n",
    "                                      verbose=2,\n",
    "                                      random_state=42,\n",
    "                                      n_jobs=1)"
   ]
  },
  {
   "cell_type": "code",
   "execution_count": null,
   "id": "2076e988",
   "metadata": {},
   "outputs": [],
   "source": [
    "# DONT train locally. use google colab.\n",
    "# xgb_select_param.fit(x_train, y_train) "
   ]
  },
  {
   "cell_type": "code",
   "execution_count": null,
   "id": "90e7b198",
   "metadata": {},
   "outputs": [],
   "source": [
    "# xgb_select_param.best_params_\n",
    "'''\n",
    "for: n_iter = 10\n",
    "{'learning_rate': '0.05',\n",
    "'max_depth': 15,\n",
    "'min_child_weight': 5,\n",
    "'n_estimators': 1200,\n",
    "'subsample': 0.6}\n",
    "'''"
   ]
  },
  {
   "cell_type": "code",
   "execution_count": null,
   "id": "5467715d",
   "metadata": {},
   "outputs": [],
   "source": [
    "xgb_regressor = XGBRegressor(\n",
    "  learning_rate= 0.05,\n",
    "  max_depth= 15,\n",
    "  min_child_weight= 5,\n",
    "  n_estimators= 1200,\n",
    "  subsample= 0.6\n",
    ")"
   ]
  },
  {
   "cell_type": "code",
   "execution_count": null,
   "id": "a7b9d4c8",
   "metadata": {},
   "outputs": [],
   "source": [
    "xgb_regressor.fit(x_train, y_train)"
   ]
  },
  {
   "cell_type": "code",
   "execution_count": null,
   "id": "cdff3cf9",
   "metadata": {},
   "outputs": [],
   "source": [
    "y_pred = xgb_regressor.predict(x_test)"
   ]
  },
  {
   "cell_type": "code",
   "execution_count": null,
   "id": "b2ffc374",
   "metadata": {},
   "outputs": [],
   "source": [
    "from sklearn.metrics import r2_score\n",
    "print(\"r2_score: \", r2_score(y_test, y_pred))\n",
    "print(\"mean_absolute_error: \", mean_absolute_error(y_test, y_pred))"
   ]
  },
  {
   "cell_type": "code",
   "execution_count": null,
   "id": "2930d9ad",
   "metadata": {},
   "outputs": [],
   "source": [
    "# plt.scatter(y_test, y_pred)"
   ]
  },
  {
   "cell_type": "code",
   "execution_count": null,
   "id": "4e73fb6a",
   "metadata": {},
   "outputs": [],
   "source": []
  },
  {
   "cell_type": "markdown",
   "id": "8784509c",
   "metadata": {},
   "source": [
    "### [RandomForestRegressor](https://scikit-learn.org/stable/modules/generated/sklearn.ensemble.RandomForestRegressor.html#sklearn-ensemble-randomforestregressor)"
   ]
  },
  {
   "cell_type": "code",
   "execution_count": null,
   "id": "3f479dcf",
   "metadata": {},
   "outputs": [],
   "source": [
    "from sklearn.ensemble import RandomForestRegressor\n",
    "rf_regressor = RandomForestRegressor()"
   ]
  },
  {
   "cell_type": "code",
   "execution_count": null,
   "id": "76fe70b2",
   "metadata": {},
   "outputs": [],
   "source": [
    "from sklearn.model_selection import RandomizedSearchCV"
   ]
  },
  {
   "cell_type": "code",
   "execution_count": null,
   "id": "0639440b",
   "metadata": {},
   "outputs": [],
   "source": [
    "# define param for rf model.\n",
    "n_estimators = [int(x) for x in np.linspace(start=100, stop=1200, num=12)]\n",
    "\n",
    "max_features = ['auto', 'sqrt']\n",
    "\n",
    "max_depth = [int(x) for x in np.linspace(start=5, stop=30, num=6)]\n",
    "\n",
    "min_samples_split = [2, 5, 10, 15, 100]\n",
    "\n",
    "min_samples_leaf = [1, 2, 5, 10]"
   ]
  },
  {
   "cell_type": "code",
   "execution_count": null,
   "id": "c70b7234",
   "metadata": {},
   "outputs": [],
   "source": [
    "param = {\n",
    "  'n_estimators': n_estimators,\n",
    "  'max_features': max_features,\n",
    "  'max_depth': max_depth,\n",
    "  'min_samples_split': min_samples_split,\n",
    "  'min_samples_leaf': min_samples_leaf\n",
    "}"
   ]
  },
  {
   "cell_type": "code",
   "execution_count": null,
   "id": "ff5e2a10",
   "metadata": {},
   "outputs": [],
   "source": [
    "# model selection.\n",
    "# https://scikit-learn.org/stable/modules/model_evaluation.html#common-cases-predefined-values\n",
    "# neg_mean_squared_error for scoring\n",
    "rf_select_param = RandomizedSearchCV(estimator=rf_regressor, \n",
    "                                      param_distributions=param,\n",
    "                                      scoring='neg_mean_squared_error',\n",
    "                                      n_iter=10,\n",
    "                                      cv=5,\n",
    "                                      verbose=2,\n",
    "                                      random_state=42,\n",
    "                                      n_jobs=1)"
   ]
  },
  {
   "cell_type": "code",
   "execution_count": null,
   "id": "394d5bad",
   "metadata": {},
   "outputs": [],
   "source": [
    "# DONT train locally. use google colab.\n",
    "# rf_select_param.fit(x_train, y_train)"
   ]
  },
  {
   "cell_type": "code",
   "execution_count": null,
   "id": "5445d095",
   "metadata": {},
   "outputs": [],
   "source": [
    "# rf_select_param.best_params_\n",
    "{'max_depth': 25,\n",
    " 'max_features': 'sqrt',\n",
    " 'min_samples_leaf': 1,\n",
    " 'min_samples_split': 2,\n",
    " 'n_estimators': 1000}"
   ]
  },
  {
   "cell_type": "code",
   "execution_count": null,
   "id": "35b1f216",
   "metadata": {},
   "outputs": [],
   "source": [
    "rf_regressor = RandomForestRegressor(\n",
    "  max_depth= 25,\n",
    "  max_features= 'sqrt',\n",
    "  min_samples_leaf= 1,\n",
    "  min_samples_split= 2,\n",
    "  n_estimators= 1000\n",
    ")"
   ]
  },
  {
   "cell_type": "code",
   "execution_count": null,
   "id": "eeb58d26",
   "metadata": {},
   "outputs": [],
   "source": [
    "rf_regressor.fit(x_train, y_train)"
   ]
  },
  {
   "cell_type": "code",
   "execution_count": null,
   "id": "3c3b593d",
   "metadata": {},
   "outputs": [],
   "source": [
    "y_pred = rf_regressor.predict(x_test)"
   ]
  },
  {
   "cell_type": "code",
   "execution_count": null,
   "id": "b7b280c0",
   "metadata": {},
   "outputs": [],
   "source": [
    "from sklearn.metrics import r2_score\n",
    "print(\"r2_score: \", r2_score(y_test, y_pred))\n",
    "print(\"mean_absolute_error: \", mean_absolute_error(y_test, y_pred))"
   ]
  },
  {
   "cell_type": "code",
   "execution_count": null,
   "id": "13bfe212",
   "metadata": {},
   "outputs": [],
   "source": []
  },
  {
   "cell_type": "markdown",
   "id": "7d729548",
   "metadata": {},
   "source": [
    "### [SVR](https://scikit-learn.org/stable/modules/generated/sklearn.svm.SVR.html#sklearn-svm-svr)"
   ]
  },
  {
   "cell_type": "code",
   "execution_count": null,
   "id": "86a56ffd",
   "metadata": {},
   "outputs": [],
   "source": [
    "from sklearn.svm import SVR\n",
    "svr_regressor = SVR()"
   ]
  },
  {
   "cell_type": "code",
   "execution_count": null,
   "id": "62cd6ce5",
   "metadata": {},
   "outputs": [],
   "source": [
    "from sklearn.model_selection import RandomizedSearchCV"
   ]
  },
  {
   "cell_type": "code",
   "execution_count": null,
   "id": "1573883c",
   "metadata": {},
   "outputs": [],
   "source": [
    "# define param for svr model.\n",
    "from scipy import stats\n",
    "# kernel = ['linear', 'poly', 'rbf']\n",
    "\n",
    "# degree = [int(x) for x in np.linspace(start=3, stop=30, num=6)]\n",
    "\n",
    "# gamma = ['scale', 'auto']\n",
    "\n",
    "# C = [float(x) for x in np.linspace(start=1, stop=15, num=8)]\n",
    "\n",
    "# epsilon = [0.1, 0.3, 0.5, 0.6, 0.8]\n",
    "\n",
    "C = stats.uniform(2, 10)\n",
    "gamma = stats.uniform(0.1, 1)"
   ]
  },
  {
   "cell_type": "code",
   "execution_count": null,
   "id": "d88d4977",
   "metadata": {},
   "outputs": [],
   "source": [
    "param = {\n",
    "  'gamma': gamma,\n",
    "  'C': C\n",
    "}"
   ]
  },
  {
   "cell_type": "code",
   "execution_count": null,
   "id": "cc0166fa",
   "metadata": {},
   "outputs": [],
   "source": [
    "# model selection.\n",
    "# https://scikit-learn.org/stable/modules/model_evaluation.html#common-cases-predefined-values\n",
    "# neg_mean_squared_error for scoring\n",
    "svr_select_param = RandomizedSearchCV(estimator=svr_regressor, \n",
    "                                      param_distributions=param,\n",
    "                                      scoring='neg_mean_squared_error',\n",
    "                                      n_iter=10,\n",
    "                                      cv=5,\n",
    "                                      verbose=2,\n",
    "                                      random_state=42,\n",
    "                                      n_jobs=1)"
   ]
  },
  {
   "cell_type": "code",
   "execution_count": null,
   "id": "f81be04a",
   "metadata": {},
   "outputs": [],
   "source": [
    "# DONT train locally. use google colab.\n",
    "# svr_select_param.fit(x_train, y_train)"
   ]
  },
  {
   "cell_type": "code",
   "execution_count": null,
   "id": "c3b331eb",
   "metadata": {},
   "outputs": [],
   "source": [
    "# svr_select_param.best_params_\n",
    "{'C': 10.324426408004218, 'gamma': 0.31233911067827613}"
   ]
  },
  {
   "cell_type": "code",
   "execution_count": null,
   "id": "e0668222",
   "metadata": {},
   "outputs": [],
   "source": [
    "svr_regressor = SVR(C=10.324426408004218, gamma=0.31233911067827613)"
   ]
  },
  {
   "cell_type": "code",
   "execution_count": null,
   "id": "930a697b",
   "metadata": {},
   "outputs": [],
   "source": [
    "svr_regressor.fit(x_train, y_train)"
   ]
  },
  {
   "cell_type": "code",
   "execution_count": null,
   "id": "01a4694e",
   "metadata": {},
   "outputs": [],
   "source": [
    "y_pred = svr_regressor.predict(x_test)"
   ]
  },
  {
   "cell_type": "code",
   "execution_count": null,
   "id": "86e491f7",
   "metadata": {},
   "outputs": [],
   "source": [
    "from sklearn.metrics import r2_score, mean_absolute_error\n",
    "print(\"r2_score: \", r2_score(y_test, y_pred))\n",
    "print(\"mean_absolute_error: \", mean_absolute_error(y_test, y_pred))"
   ]
  },
  {
   "cell_type": "code",
   "execution_count": null,
   "id": "4e717d9e",
   "metadata": {},
   "outputs": [],
   "source": []
  },
  {
   "cell_type": "markdown",
   "id": "cc8f7ea0",
   "metadata": {},
   "source": [
    "### [DecisionTreeRegressor](https://scikit-learn.org/stable/modules/generated/sklearn.tree.DecisionTreeRegressor.html#sklearn-tree-decisiontreeregressor)"
   ]
  },
  {
   "cell_type": "code",
   "execution_count": null,
   "id": "467691a9",
   "metadata": {},
   "outputs": [],
   "source": [
    "from sklearn.tree import DecisionTreeRegressor\n",
    "dt_regressor = DecisionTreeRegressor()"
   ]
  },
  {
   "cell_type": "code",
   "execution_count": null,
   "id": "9c9a2e90",
   "metadata": {},
   "outputs": [],
   "source": [
    "from sklearn.model_selection import GridSearchCV"
   ]
  },
  {
   "cell_type": "code",
   "execution_count": null,
   "id": "dccd61ef",
   "metadata": {},
   "outputs": [],
   "source": [
    "splitter = ['best', 'random']\n",
    "\n",
    "max_depth = [1, 3, 5, 7, 9, 11, 12]\n",
    "\n",
    "min_samples_leaf = [x for x in range(1, 11)]\n",
    "\n",
    "min_weight_fraction_leaf = [float('%.2f' % (x)) for x in np.linspace(start=0.1, stop=1, num=10)]\n",
    "\n",
    "max_features = ['auto','log2','sqrt', None]\n",
    "\n",
    "max_leaf_nodes = [None , 10, 20, 30, 40, 50, 60, 70, 80, 90]"
   ]
  },
  {
   "cell_type": "code",
   "execution_count": null,
   "id": "4e05c694",
   "metadata": {},
   "outputs": [],
   "source": [
    "param = {\n",
    "  'splitter': splitter,\n",
    "  'max_depth': max_depth,\n",
    "  'min_samples_leaf': min_samples_leaf,\n",
    "  'min_weight_fraction_leaf': min_weight_fraction_leaf,\n",
    "  'max_features': max_features,\n",
    "  'max_leaf_nodes': max_leaf_nodes\n",
    "}"
   ]
  },
  {
   "cell_type": "code",
   "execution_count": null,
   "id": "8f7a444c",
   "metadata": {},
   "outputs": [],
   "source": [
    "dt_select_param = GridSearchCV(\n",
    "  estimator=dt_regressor,\n",
    "  param_grid=param,\n",
    "  scoring='neg_mean_squared_error',\n",
    "  cv=3,\n",
    "  verbose=3\n",
    ")"
   ]
  },
  {
   "cell_type": "code",
   "execution_count": null,
   "id": "ba38fc74",
   "metadata": {},
   "outputs": [],
   "source": [
    "# dt_select_param.fit(x_train, y_train)"
   ]
  },
  {
   "cell_type": "code",
   "execution_count": null,
   "id": "e540afe8",
   "metadata": {},
   "outputs": [],
   "source": [
    "# dt_select_param.best_params_\n",
    "{'max_depth': 5,\n",
    " 'max_features': 'sqrt',\n",
    " 'max_leaf_nodes': 10,\n",
    " 'min_samples_leaf': 9,\n",
    " 'min_weight_fraction_leaf': 0.1,\n",
    " 'splitter': 'best'}"
   ]
  },
  {
   "cell_type": "code",
   "execution_count": null,
   "id": "afdb7d82",
   "metadata": {},
   "outputs": [],
   "source": [
    "dt_regressor = DecisionTreeRegressor(\n",
    "  max_depth= 5,\n",
    "  max_features='sqrt',\n",
    "  max_leaf_nodes= 10,\n",
    "  min_samples_leaf= 9,\n",
    "  min_weight_fraction_leaf= 0.1,\n",
    "  splitter= 'best'\n",
    ")"
   ]
  },
  {
   "cell_type": "code",
   "execution_count": null,
   "id": "61fd96ea",
   "metadata": {},
   "outputs": [],
   "source": [
    "dt_regressor.fit(x_train, y_train)"
   ]
  },
  {
   "cell_type": "code",
   "execution_count": null,
   "id": "d1de8881",
   "metadata": {},
   "outputs": [],
   "source": [
    "y_pred = dt_regressor.predict(x_test)"
   ]
  },
  {
   "cell_type": "code",
   "execution_count": null,
   "id": "36b3b031",
   "metadata": {},
   "outputs": [],
   "source": [
    "from sklearn.metrics import r2_score, mean_absolute_error\n",
    "print(\"r2_score: \", r2_score(y_test, y_pred))\n",
    "print(\"mean_absolute_error: \", mean_absolute_error(y_test, y_pred))"
   ]
  },
  {
   "cell_type": "code",
   "execution_count": null,
   "id": "a1325a08",
   "metadata": {},
   "outputs": [],
   "source": []
  },
  {
   "cell_type": "code",
   "execution_count": null,
   "id": "f58fbf17",
   "metadata": {},
   "outputs": [],
   "source": []
  }
 ],
 "metadata": {
  "kernelspec": {
   "display_name": "Python 3 (ipykernel)",
   "language": "python",
   "name": "python3"
  },
  "language_info": {
   "codemirror_mode": {
    "name": "ipython",
    "version": 3
   },
   "file_extension": ".py",
   "mimetype": "text/x-python",
   "name": "python",
   "nbconvert_exporter": "python",
   "pygments_lexer": "ipython3",
   "version": "3.9.9"
  }
 },
 "nbformat": 4,
 "nbformat_minor": 5
}
