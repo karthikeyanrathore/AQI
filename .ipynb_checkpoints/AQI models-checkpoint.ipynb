{
 "cells": [
  {
   "cell_type": "code",
   "execution_count": 56,
   "id": "e4c261f2",
   "metadata": {},
   "outputs": [
    {
     "name": "stdout",
     "output_type": "stream",
     "text": [
      "<class 'pandas.core.frame.DataFrame'>\n",
      "RangeIndex: 29531 entries, 0 to 29530\n",
      "Data columns (total 16 columns):\n",
      " #   Column      Non-Null Count  Dtype  \n",
      "---  ------      --------------  -----  \n",
      " 0   City        29531 non-null  object \n",
      " 1   Date        29531 non-null  object \n",
      " 2   PM2.5       24933 non-null  float64\n",
      " 3   PM10        18391 non-null  float64\n",
      " 4   NO          25949 non-null  float64\n",
      " 5   NO2         25946 non-null  float64\n",
      " 6   NOx         25346 non-null  float64\n",
      " 7   NH3         19203 non-null  float64\n",
      " 8   CO          27472 non-null  float64\n",
      " 9   SO2         25677 non-null  float64\n",
      " 10  O3          25509 non-null  float64\n",
      " 11  Benzene     23908 non-null  float64\n",
      " 12  Toluene     21490 non-null  float64\n",
      " 13  Xylene      11422 non-null  float64\n",
      " 14  AQI         24850 non-null  float64\n",
      " 15  AQI_Bucket  24850 non-null  object \n",
      "dtypes: float64(13), object(3)\n",
      "memory usage: 3.6+ MB\n"
     ]
    }
   ],
   "source": [
    "import pandas as pd\n",
    "data = pd.read_csv(\"data/india/city_day.csv\")\n",
    "data.info()"
   ]
  },
  {
   "cell_type": "code",
   "execution_count": 57,
   "id": "545536ee",
   "metadata": {},
   "outputs": [],
   "source": [
    "#del data['PM10']\n",
    "#del data['AQI']\n",
    "del data['AQI_Bucket']\n",
    "# why - https://smartairfilters.com/en/blog/difference-pm2-5-aqi-measurements/"
   ]
  },
  {
   "cell_type": "code",
   "execution_count": 58,
   "id": "84b75753",
   "metadata": {},
   "outputs": [],
   "source": [
    "data['Date'] = pd.to_datetime(data['Date'])"
   ]
  },
  {
   "cell_type": "code",
   "execution_count": 59,
   "id": "e1889144",
   "metadata": {},
   "outputs": [
    {
     "name": "stdout",
     "output_type": "stream",
     "text": [
      "<class 'pandas.core.frame.DataFrame'>\n",
      "RangeIndex: 29531 entries, 0 to 29530\n",
      "Data columns (total 15 columns):\n",
      " #   Column   Non-Null Count  Dtype         \n",
      "---  ------   --------------  -----         \n",
      " 0   City     29531 non-null  object        \n",
      " 1   Date     29531 non-null  datetime64[ns]\n",
      " 2   PM2.5    24933 non-null  float64       \n",
      " 3   PM10     18391 non-null  float64       \n",
      " 4   NO       25949 non-null  float64       \n",
      " 5   NO2      25946 non-null  float64       \n",
      " 6   NOx      25346 non-null  float64       \n",
      " 7   NH3      19203 non-null  float64       \n",
      " 8   CO       27472 non-null  float64       \n",
      " 9   SO2      25677 non-null  float64       \n",
      " 10  O3       25509 non-null  float64       \n",
      " 11  Benzene  23908 non-null  float64       \n",
      " 12  Toluene  21490 non-null  float64       \n",
      " 13  Xylene   11422 non-null  float64       \n",
      " 14  AQI      24850 non-null  float64       \n",
      "dtypes: datetime64[ns](1), float64(13), object(1)\n",
      "memory usage: 3.4+ MB\n"
     ]
    }
   ],
   "source": [
    "data.info()"
   ]
  },
  {
   "cell_type": "code",
   "execution_count": 60,
   "id": "099cfd10",
   "metadata": {},
   "outputs": [],
   "source": [
    "from sklearn.impute import SimpleImputer\n",
    "import numpy as np\n",
    "imputer = SimpleImputer(missing_values=np.nan , strategy=\"mean\")\n",
    "imputer.fit(data.iloc[:, 2:15])\n",
    "data.iloc[:, 2:15] = imputer.transform(data.iloc[:, 2:15])"
   ]
  },
  {
   "cell_type": "code",
   "execution_count": 61,
   "id": "64ebbdfb",
   "metadata": {},
   "outputs": [
    {
     "name": "stdout",
     "output_type": "stream",
     "text": [
      "<class 'pandas.core.frame.DataFrame'>\n",
      "RangeIndex: 29531 entries, 0 to 29530\n",
      "Data columns (total 15 columns):\n",
      " #   Column   Non-Null Count  Dtype         \n",
      "---  ------   --------------  -----         \n",
      " 0   City     29531 non-null  object        \n",
      " 1   Date     29531 non-null  datetime64[ns]\n",
      " 2   PM2.5    29531 non-null  float64       \n",
      " 3   PM10     29531 non-null  float64       \n",
      " 4   NO       29531 non-null  float64       \n",
      " 5   NO2      29531 non-null  float64       \n",
      " 6   NOx      29531 non-null  float64       \n",
      " 7   NH3      29531 non-null  float64       \n",
      " 8   CO       29531 non-null  float64       \n",
      " 9   SO2      29531 non-null  float64       \n",
      " 10  O3       29531 non-null  float64       \n",
      " 11  Benzene  29531 non-null  float64       \n",
      " 12  Toluene  29531 non-null  float64       \n",
      " 13  Xylene   29531 non-null  float64       \n",
      " 14  AQI      29531 non-null  float64       \n",
      "dtypes: datetime64[ns](1), float64(13), object(1)\n",
      "memory usage: 3.4+ MB\n"
     ]
    }
   ],
   "source": [
    "data.info()"
   ]
  },
  {
   "cell_type": "code",
   "execution_count": 62,
   "id": "253ad57e",
   "metadata": {},
   "outputs": [],
   "source": [
    "x = data.iloc[:, 2:14].values\n",
    "y = data.iloc[:, 14].values"
   ]
  },
  {
   "cell_type": "code",
   "execution_count": 63,
   "id": "3856df75",
   "metadata": {},
   "outputs": [],
   "source": [
    "from sklearn.model_selection import train_test_split\n",
    "x_train, x_test, y_train, y_test = train_test_split(x, y, test_size=0.3, random_state=1)"
   ]
  },
  {
   "cell_type": "code",
   "execution_count": 64,
   "id": "2a6b1919",
   "metadata": {},
   "outputs": [],
   "source": [
    "from sklearn.preprocessing import StandardScaler\n",
    "sc = StandardScaler()\n",
    "x_train[:, :] = sc.fit_transform(x_train[:, :])\n",
    "x_test[:, :] = sc.fit_transform(x_test[:, :])"
   ]
  },
  {
   "cell_type": "code",
   "execution_count": 65,
   "id": "482fe373",
   "metadata": {},
   "outputs": [
    {
     "data": {
      "text/plain": [
       "LinearRegression()"
      ]
     },
     "execution_count": 65,
     "metadata": {},
     "output_type": "execute_result"
    }
   ],
   "source": [
    "from sklearn.linear_model import LinearRegression\n",
    "regressor = LinearRegression()\n",
    "regressor.fit(x_train, y_train)"
   ]
  },
  {
   "cell_type": "code",
   "execution_count": 66,
   "id": "80261877",
   "metadata": {},
   "outputs": [],
   "source": [
    "y_pred = regressor.predict(x_test)"
   ]
  },
  {
   "cell_type": "code",
   "execution_count": 67,
   "id": "3b6e8e28",
   "metadata": {},
   "outputs": [
    {
     "data": {
      "text/plain": [
       "0.7898933582206618"
      ]
     },
     "execution_count": 67,
     "metadata": {},
     "output_type": "execute_result"
    }
   ],
   "source": [
    "from sklearn.metrics import r2_score\n",
    "r2_score(y_test, y_pred)"
   ]
  },
  {
   "cell_type": "code",
   "execution_count": null,
   "id": "9357d703",
   "metadata": {},
   "outputs": [],
   "source": []
  },
  {
   "cell_type": "code",
   "execution_count": null,
   "id": "bc38fc30",
   "metadata": {},
   "outputs": [],
   "source": []
  }
 ],
 "metadata": {
  "kernelspec": {
   "display_name": "Python 3 (ipykernel)",
   "language": "python",
   "name": "python3"
  },
  "language_info": {
   "codemirror_mode": {
    "name": "ipython",
    "version": 3
   },
   "file_extension": ".py",
   "mimetype": "text/x-python",
   "name": "python",
   "nbconvert_exporter": "python",
   "pygments_lexer": "ipython3",
   "version": "3.9.9"
  }
 },
 "nbformat": 4,
 "nbformat_minor": 5
}
