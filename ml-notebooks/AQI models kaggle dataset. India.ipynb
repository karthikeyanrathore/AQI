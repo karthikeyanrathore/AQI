{
 "cells": [
  {
   "cell_type": "code",
   "execution_count": 1,
   "id": "e4c261f2",
   "metadata": {},
   "outputs": [
    {
     "name": "stdout",
     "output_type": "stream",
     "text": [
      "<class 'pandas.core.frame.DataFrame'>\n",
      "RangeIndex: 29531 entries, 0 to 29530\n",
      "Data columns (total 16 columns):\n",
      " #   Column      Non-Null Count  Dtype  \n",
      "---  ------      --------------  -----  \n",
      " 0   City        29531 non-null  object \n",
      " 1   Date        29531 non-null  object \n",
      " 2   PM2.5       24933 non-null  float64\n",
      " 3   PM10        18391 non-null  float64\n",
      " 4   NO          25949 non-null  float64\n",
      " 5   NO2         25946 non-null  float64\n",
      " 6   NOx         25346 non-null  float64\n",
      " 7   NH3         19203 non-null  float64\n",
      " 8   CO          27472 non-null  float64\n",
      " 9   SO2         25677 non-null  float64\n",
      " 10  O3          25509 non-null  float64\n",
      " 11  Benzene     23908 non-null  float64\n",
      " 12  Toluene     21490 non-null  float64\n",
      " 13  Xylene      11422 non-null  float64\n",
      " 14  AQI         24850 non-null  float64\n",
      " 15  AQI_Bucket  24850 non-null  object \n",
      "dtypes: float64(13), object(3)\n",
      "memory usage: 3.6+ MB\n"
     ]
    }
   ],
   "source": [
    "import pandas as pd\n",
    "import numpy as np\n",
    "from matplotlib import pyplot as plt\n",
    "import seaborn as sns\n",
    "import datetime\n",
    "# https://www.kaggle.com/rohanrao/air-quality-data-in-india?select=city_day.csv\n",
    "data = pd.read_csv(\"data/india/city_day.csv\")  #local.\n",
    "#!curl https://raw.githubusercontent.com/karthikeyanrathore/AQI/main/data/india/city_day.csv?token=GHSAT0AAAAAABTNEQV2U2F42YYZOVLV3ETIYSZM2EA > city_day.csv\n",
    "#data = pd.read_csv(\"/content/city_day.csv\")\n",
    "data.info()"
   ]
  },
  {
   "cell_type": "code",
   "execution_count": 2,
   "id": "e4e24b7b",
   "metadata": {},
   "outputs": [
    {
     "data": {
      "text/plain": [
       "['Ahmedabad',\n",
       " 'Aizawl',\n",
       " 'Amaravati',\n",
       " 'Amritsar',\n",
       " 'Bengaluru',\n",
       " 'Bhopal',\n",
       " 'Brajrajnagar',\n",
       " 'Chandigarh',\n",
       " 'Chennai',\n",
       " 'Coimbatore',\n",
       " 'Delhi',\n",
       " 'Ernakulam',\n",
       " 'Gurugram',\n",
       " 'Guwahati',\n",
       " 'Hyderabad',\n",
       " 'Jaipur',\n",
       " 'Jorapokhar',\n",
       " 'Kochi',\n",
       " 'Kolkata',\n",
       " 'Lucknow',\n",
       " 'Mumbai',\n",
       " 'Patna',\n",
       " 'Shillong',\n",
       " 'Talcher',\n",
       " 'Thiruvananthapuram',\n",
       " 'Visakhapatnam']"
      ]
     },
     "execution_count": 2,
     "metadata": {},
     "output_type": "execute_result"
    }
   ],
   "source": [
    "len(data['City'].unique()) # 26 citites\n",
    "list(data['City'].unique())"
   ]
  },
  {
   "cell_type": "code",
   "execution_count": 3,
   "id": "545536ee",
   "metadata": {},
   "outputs": [],
   "source": [
    "#del data['PM10']\n",
    "#del data['AQI']\n",
    "del data['AQI_Bucket']\n",
    "# why - https://smartairfilters.com/en/blog/difference-pm2-5-aqi-measurements/"
   ]
  },
  {
   "cell_type": "code",
   "execution_count": 4,
   "id": "84b75753",
   "metadata": {},
   "outputs": [],
   "source": [
    "data['Date'] = pd.to_datetime(data['Date'])"
   ]
  },
  {
   "cell_type": "code",
   "execution_count": 5,
   "id": "e1889144",
   "metadata": {},
   "outputs": [
    {
     "name": "stdout",
     "output_type": "stream",
     "text": [
      "<class 'pandas.core.frame.DataFrame'>\n",
      "RangeIndex: 29531 entries, 0 to 29530\n",
      "Data columns (total 15 columns):\n",
      " #   Column   Non-Null Count  Dtype         \n",
      "---  ------   --------------  -----         \n",
      " 0   City     29531 non-null  object        \n",
      " 1   Date     29531 non-null  datetime64[ns]\n",
      " 2   PM2.5    24933 non-null  float64       \n",
      " 3   PM10     18391 non-null  float64       \n",
      " 4   NO       25949 non-null  float64       \n",
      " 5   NO2      25946 non-null  float64       \n",
      " 6   NOx      25346 non-null  float64       \n",
      " 7   NH3      19203 non-null  float64       \n",
      " 8   CO       27472 non-null  float64       \n",
      " 9   SO2      25677 non-null  float64       \n",
      " 10  O3       25509 non-null  float64       \n",
      " 11  Benzene  23908 non-null  float64       \n",
      " 12  Toluene  21490 non-null  float64       \n",
      " 13  Xylene   11422 non-null  float64       \n",
      " 14  AQI      24850 non-null  float64       \n",
      "dtypes: datetime64[ns](1), float64(13), object(1)\n",
      "memory usage: 3.4+ MB\n"
     ]
    }
   ],
   "source": [
    "data.info()"
   ]
  },
  {
   "cell_type": "code",
   "execution_count": 6,
   "id": "c98fa0b7",
   "metadata": {},
   "outputs": [
    {
     "data": {
      "text/html": [
       "<div>\n",
       "<style scoped>\n",
       "    .dataframe tbody tr th:only-of-type {\n",
       "        vertical-align: middle;\n",
       "    }\n",
       "\n",
       "    .dataframe tbody tr th {\n",
       "        vertical-align: top;\n",
       "    }\n",
       "\n",
       "    .dataframe thead th {\n",
       "        text-align: right;\n",
       "    }\n",
       "</style>\n",
       "<table border=\"1\" class=\"dataframe\">\n",
       "  <thead>\n",
       "    <tr style=\"text-align: right;\">\n",
       "      <th></th>\n",
       "      <th>City</th>\n",
       "      <th>Date</th>\n",
       "      <th>PM2.5</th>\n",
       "      <th>PM10</th>\n",
       "      <th>NO</th>\n",
       "      <th>NO2</th>\n",
       "      <th>NOx</th>\n",
       "      <th>NH3</th>\n",
       "      <th>CO</th>\n",
       "      <th>SO2</th>\n",
       "      <th>O3</th>\n",
       "      <th>Benzene</th>\n",
       "      <th>Toluene</th>\n",
       "      <th>Xylene</th>\n",
       "      <th>AQI</th>\n",
       "    </tr>\n",
       "  </thead>\n",
       "  <tbody>\n",
       "  </tbody>\n",
       "</table>\n",
       "</div>"
      ],
      "text/plain": [
       "Empty DataFrame\n",
       "Columns: [City, Date, PM2.5, PM10, NO, NO2, NOx, NH3, CO, SO2, O3, Benzene, Toluene, Xylene, AQI]\n",
       "Index: []"
      ]
     },
     "execution_count": 6,
     "metadata": {},
     "output_type": "execute_result"
    }
   ],
   "source": [
    "# worst polluted city? before covid \n",
    "# Ahmedabad\n",
    "poll_city = data[data['AQI'] == 2049].dropna()\n",
    "poll_city\n",
    "\n",
    "# worst polluted city? after covid \n",
    "# Ahmedabad\n",
    "poll_city = data[data['AQI'] == 1291].dropna()\n",
    "poll_city"
   ]
  },
  {
   "cell_type": "code",
   "execution_count": 7,
   "id": "099cfd10",
   "metadata": {},
   "outputs": [],
   "source": [
    "# fill nan places in data with mean.\n",
    "from sklearn.impute import SimpleImputer\n",
    "import numpy as np\n",
    "imputer = SimpleImputer(missing_values=np.nan , strategy=\"mean\")\n",
    "imputer.fit(data.iloc[:, 2:15])\n",
    "data.iloc[:, 2:15] = imputer.transform(data.iloc[:, 2:15])"
   ]
  },
  {
   "cell_type": "code",
   "execution_count": 8,
   "id": "64ebbdfb",
   "metadata": {},
   "outputs": [
    {
     "name": "stdout",
     "output_type": "stream",
     "text": [
      "<class 'pandas.core.frame.DataFrame'>\n",
      "RangeIndex: 29531 entries, 0 to 29530\n",
      "Data columns (total 15 columns):\n",
      " #   Column   Non-Null Count  Dtype         \n",
      "---  ------   --------------  -----         \n",
      " 0   City     29531 non-null  object        \n",
      " 1   Date     29531 non-null  datetime64[ns]\n",
      " 2   PM2.5    29531 non-null  float64       \n",
      " 3   PM10     29531 non-null  float64       \n",
      " 4   NO       29531 non-null  float64       \n",
      " 5   NO2      29531 non-null  float64       \n",
      " 6   NOx      29531 non-null  float64       \n",
      " 7   NH3      29531 non-null  float64       \n",
      " 8   CO       29531 non-null  float64       \n",
      " 9   SO2      29531 non-null  float64       \n",
      " 10  O3       29531 non-null  float64       \n",
      " 11  Benzene  29531 non-null  float64       \n",
      " 12  Toluene  29531 non-null  float64       \n",
      " 13  Xylene   29531 non-null  float64       \n",
      " 14  AQI      29531 non-null  float64       \n",
      "dtypes: datetime64[ns](1), float64(13), object(1)\n",
      "memory usage: 3.4+ MB\n"
     ]
    }
   ],
   "source": [
    "data.info()"
   ]
  },
  {
   "cell_type": "code",
   "execution_count": 9,
   "id": "8ae52a1e",
   "metadata": {},
   "outputs": [],
   "source": [
    "before_covid = list(filter(lambda x: x < datetime.datetime(2019, 12, 31) , data['Date'])) # 2015-2019\n",
    "covid_period = list(filter(lambda x: x > datetime.datetime(2019, 12, 31) , data['Date'])) # 2020-. () \n",
    "#len(before_covid) # 24862\n",
    "#len(covid_period) # 4646"
   ]
  },
  {
   "cell_type": "code",
   "execution_count": 10,
   "id": "ea1f2652",
   "metadata": {},
   "outputs": [
    {
     "name": "stdout",
     "output_type": "stream",
     "text": [
      "Ozone before 257.73\n",
      "Ozone after 156.05\n",
      "AQI before 2049.0\n",
      "AQI after 1291.0\n"
     ]
    }
   ],
   "source": [
    "l_before = (data[data['Date'] < datetime.datetime(2019, 12, 31)]).dropna()\n",
    "l_after = (data[data['Date'] > datetime.datetime(2019, 12, 31)]).dropna()\n",
    "#len(list(filter(lambda x: x == True , l))),\n",
    "\n",
    "# find the main factors/pollutants responsible using ML.\n",
    "\n",
    "# Ozone\n",
    "print('Ozone before', max(l_before['O3'])) \n",
    "print('Ozone after', max(l_after['O3']))\n",
    "\n",
    "# AQI\n",
    "print('AQI before', max(l_before['AQI'])) \n",
    "print('AQI after', max(l_after['AQI']))\n"
   ]
  },
  {
   "cell_type": "code",
   "execution_count": 11,
   "id": "253ad57e",
   "metadata": {},
   "outputs": [],
   "source": [
    "x = data.iloc[:, 2:14].values # array (PM2.5, PM10, ... Xylene)\n",
    "y = data.iloc[:, 14].values # AQI"
   ]
  },
  {
   "cell_type": "code",
   "execution_count": 12,
   "id": "b4464db2",
   "metadata": {},
   "outputs": [],
   "source": [
    "# keeping it into AQI buckets\n",
    "# https://pib.gov.in/newsite/PrintRelease.aspx?relid=110654\n",
    "AQI_bucket = {'good': 0, 'satisfactory': 0, 'moderate': 0, 'poor': 0, 'very_poor': 0,'severe': 0}\n",
    "for val in y:\n",
    "  if 0 <= val <= 50:\n",
    "    AQI_bucket['good'] += 1\n",
    "  elif 51 <= val <= 100:\n",
    "    AQI_bucket['satisfactory'] += 1\n",
    "  elif 101 <= val <= 250:\n",
    "    AQI_bucket['moderate'] += 1\n",
    "  elif 251 <= val <= 350:\n",
    "    AQI_bucket['poor'] += 1\n",
    "  elif 351 <= val <= 430:\n",
    "    AQI_bucket['very_poor'] += 1\n",
    "  else:\n",
    "    AQI_bucket['severe'] += 1"
   ]
  },
  {
   "cell_type": "code",
   "execution_count": 13,
   "id": "ae7c2077",
   "metadata": {},
   "outputs": [
    {
     "name": "stderr",
     "output_type": "stream",
     "text": [
      "/Users/vagrant/miniforge3/envs/batman/lib/python3.9/site-packages/seaborn/distributions.py:2619: FutureWarning: `distplot` is a deprecated function and will be removed in a future version. Please adapt your code to use either `displot` (a figure-level function with similar flexibility) or `histplot` (an axes-level function for histograms).\n",
      "  warnings.warn(msg, FutureWarning)\n"
     ]
    },
    {
     "data": {
      "text/plain": [
       "<AxesSubplot:xlabel='AQI', ylabel='Density'>"
      ]
     },
     "execution_count": 13,
     "metadata": {},
     "output_type": "execute_result"
    },
    {
     "data": {
      "image/png": "[encoded data removed]",
      "text/plain": [
       "<Figure size 648x576 with 1 Axes>"
      ]
     },
     "metadata": {
      "needs_background": "light"
     },
     "output_type": "display_data"
    }
   ],
   "source": [
    "plt.figure(figsize=(9, 8))\n",
    "sns.distplot(data['AQI'], color='b', bins=160, hist_kws={'alpha':0.4})"
   ]
  },
  {
   "cell_type": "code",
   "execution_count": 14,
   "id": "7ea13b9d",
   "metadata": {},
   "outputs": [
    {
     "data": {
      "image/png": "[encoded data removed]",
      "text/plain": [
       "<Figure size 648x504 with 2 Axes>"
      ]
     },
     "metadata": {
      "needs_background": "light"
     },
     "output_type": "display_data"
    }
   ],
   "source": [
    "re = data.corr()\n",
    "corr_feat = re.index\n",
    "plt.figure(figsize=(9, 7))\n",
    "sns.heatmap(data[corr_feat].corr(), annot=False, cmap=\"PiYG\")\n",
    "plt.savefig(\"heatmap\")\n",
    "# hm. as we can see green (corr with themselves) 1 == (postivly corr ) && 0 == neg corr"
   ]
  },
  {
   "cell_type": "code",
   "execution_count": 15,
   "id": "01e7ed6c",
   "metadata": {},
   "outputs": [
    {
     "data": {
      "text/plain": [
       "<AxesSubplot:ylabel='AQI'>"
      ]
     },
     "execution_count": 15,
     "metadata": {},
     "output_type": "execute_result"
    },
    {
     "data": {
      "image/png": "[encoded data removed]",
      "text/plain": [
       "<Figure size 432x288 with 1 Axes>"
      ]
     },
     "metadata": {
      "needs_background": "light"
     },
     "output_type": "display_data"
    }
   ],
   "source": [
    "sns.pointplot(x=[x.strftime(\"%Y\") for x in data.Date], y=\"AQI\", data=data)"
   ]
  },
  {
   "cell_type": "code",
   "execution_count": 16,
   "id": "faf9aac7",
   "metadata": {},
   "outputs": [],
   "source": [
    "def remark(x):\n",
    "  if 0 <= x <= 50: return \"good\"\n",
    "  elif 51 <= x <= 100: return \"satisfactory\"\n",
    "  elif 101 <= x <= 250: return \"moderate\"\n",
    "  elif 251 <= x <= 350: return \"poor\"\n",
    "  elif 351 <= x <= 430: return \"very poor\"\n",
    "  else: return \"severe\"\n",
    "    \n",
    "data['remark'] = [remark(x) for x in data['AQI']]"
   ]
  },
  {
   "cell_type": "code",
   "execution_count": 17,
   "id": "68cc25ab",
   "metadata": {},
   "outputs": [
    {
     "data": {
      "text/plain": [
       "0            moderate\n",
       "1            moderate\n",
       "2            moderate\n",
       "3            moderate\n",
       "4            moderate\n",
       "             ...     \n",
       "29526            good\n",
       "29527    satisfactory\n",
       "29528    satisfactory\n",
       "29529    satisfactory\n",
       "29530            good\n",
       "Name: remark, Length: 29531, dtype: object"
      ]
     },
     "execution_count": 17,
     "metadata": {},
     "output_type": "execute_result"
    }
   ],
   "source": [
    "data['remark']"
   ]
  },
  {
   "cell_type": "code",
   "execution_count": 18,
   "id": "47d367e8",
   "metadata": {},
   "outputs": [
    {
     "data": {
      "image/png": "[encoded data removed]",
      "text/plain": [
       "<Figure size 648x360 with 1 Axes>"
      ]
     },
     "metadata": {
      "needs_background": "light"
     },
     "output_type": "display_data"
    }
   ],
   "source": [
    "\n",
    "plt.figure(figsize=(9, 5))\n",
    "sns.stripplot(x=[x.strftime(\"%Y\") for x in data.Date], y=\"AQI\", data=data, hue=\"remark\")\n",
    "plt.savefig(\"stripplot\")"
   ]
  },
  {
   "cell_type": "code",
   "execution_count": 19,
   "id": "4081c663",
   "metadata": {},
   "outputs": [],
   "source": [
    "del data['remark']"
   ]
  },
  {
   "cell_type": "code",
   "execution_count": 20,
   "id": "9f21a831",
   "metadata": {},
   "outputs": [
    {
     "data": {
      "text/html": [
       "<div>\n",
       "<style scoped>\n",
       "    .dataframe tbody tr th:only-of-type {\n",
       "        vertical-align: middle;\n",
       "    }\n",
       "\n",
       "    .dataframe tbody tr th {\n",
       "        vertical-align: top;\n",
       "    }\n",
       "\n",
       "    .dataframe thead th {\n",
       "        text-align: right;\n",
       "    }\n",
       "</style>\n",
       "<table border=\"1\" class=\"dataframe\">\n",
       "  <thead>\n",
       "    <tr style=\"text-align: right;\">\n",
       "      <th></th>\n",
       "      <th>City</th>\n",
       "      <th>Date</th>\n",
       "      <th>PM2.5</th>\n",
       "      <th>PM10</th>\n",
       "      <th>NO</th>\n",
       "      <th>NO2</th>\n",
       "      <th>NOx</th>\n",
       "      <th>NH3</th>\n",
       "      <th>CO</th>\n",
       "      <th>SO2</th>\n",
       "      <th>O3</th>\n",
       "      <th>Benzene</th>\n",
       "      <th>Toluene</th>\n",
       "      <th>Xylene</th>\n",
       "      <th>AQI</th>\n",
       "    </tr>\n",
       "  </thead>\n",
       "  <tbody>\n",
       "    <tr>\n",
       "      <th>0</th>\n",
       "      <td>Ahmedabad</td>\n",
       "      <td>2015-01-01</td>\n",
       "      <td>67.450578</td>\n",
       "      <td>118.127103</td>\n",
       "      <td>0.92</td>\n",
       "      <td>18.22</td>\n",
       "      <td>17.15</td>\n",
       "      <td>23.483476</td>\n",
       "      <td>0.92</td>\n",
       "      <td>27.64</td>\n",
       "      <td>133.36</td>\n",
       "      <td>0.00000</td>\n",
       "      <td>0.020000</td>\n",
       "      <td>0.000000</td>\n",
       "      <td>166.463581</td>\n",
       "    </tr>\n",
       "    <tr>\n",
       "      <th>1</th>\n",
       "      <td>Ahmedabad</td>\n",
       "      <td>2015-01-02</td>\n",
       "      <td>67.450578</td>\n",
       "      <td>118.127103</td>\n",
       "      <td>0.97</td>\n",
       "      <td>15.69</td>\n",
       "      <td>16.46</td>\n",
       "      <td>23.483476</td>\n",
       "      <td>0.97</td>\n",
       "      <td>24.55</td>\n",
       "      <td>34.06</td>\n",
       "      <td>3.68000</td>\n",
       "      <td>5.500000</td>\n",
       "      <td>3.770000</td>\n",
       "      <td>166.463581</td>\n",
       "    </tr>\n",
       "    <tr>\n",
       "      <th>2</th>\n",
       "      <td>Ahmedabad</td>\n",
       "      <td>2015-01-03</td>\n",
       "      <td>67.450578</td>\n",
       "      <td>118.127103</td>\n",
       "      <td>17.40</td>\n",
       "      <td>19.30</td>\n",
       "      <td>29.70</td>\n",
       "      <td>23.483476</td>\n",
       "      <td>17.40</td>\n",
       "      <td>29.07</td>\n",
       "      <td>30.70</td>\n",
       "      <td>6.80000</td>\n",
       "      <td>16.400000</td>\n",
       "      <td>2.250000</td>\n",
       "      <td>166.463581</td>\n",
       "    </tr>\n",
       "    <tr>\n",
       "      <th>3</th>\n",
       "      <td>Ahmedabad</td>\n",
       "      <td>2015-01-04</td>\n",
       "      <td>67.450578</td>\n",
       "      <td>118.127103</td>\n",
       "      <td>1.70</td>\n",
       "      <td>18.48</td>\n",
       "      <td>17.97</td>\n",
       "      <td>23.483476</td>\n",
       "      <td>1.70</td>\n",
       "      <td>18.59</td>\n",
       "      <td>36.08</td>\n",
       "      <td>4.43000</td>\n",
       "      <td>10.140000</td>\n",
       "      <td>1.000000</td>\n",
       "      <td>166.463581</td>\n",
       "    </tr>\n",
       "    <tr>\n",
       "      <th>4</th>\n",
       "      <td>Ahmedabad</td>\n",
       "      <td>2015-01-05</td>\n",
       "      <td>67.450578</td>\n",
       "      <td>118.127103</td>\n",
       "      <td>22.10</td>\n",
       "      <td>21.42</td>\n",
       "      <td>37.76</td>\n",
       "      <td>23.483476</td>\n",
       "      <td>22.10</td>\n",
       "      <td>39.33</td>\n",
       "      <td>39.31</td>\n",
       "      <td>7.01000</td>\n",
       "      <td>18.890000</td>\n",
       "      <td>2.780000</td>\n",
       "      <td>166.463581</td>\n",
       "    </tr>\n",
       "    <tr>\n",
       "      <th>...</th>\n",
       "      <td>...</td>\n",
       "      <td>...</td>\n",
       "      <td>...</td>\n",
       "      <td>...</td>\n",
       "      <td>...</td>\n",
       "      <td>...</td>\n",
       "      <td>...</td>\n",
       "      <td>...</td>\n",
       "      <td>...</td>\n",
       "      <td>...</td>\n",
       "      <td>...</td>\n",
       "      <td>...</td>\n",
       "      <td>...</td>\n",
       "      <td>...</td>\n",
       "      <td>...</td>\n",
       "    </tr>\n",
       "    <tr>\n",
       "      <th>29526</th>\n",
       "      <td>Visakhapatnam</td>\n",
       "      <td>2020-06-27</td>\n",
       "      <td>15.020000</td>\n",
       "      <td>50.940000</td>\n",
       "      <td>7.68</td>\n",
       "      <td>25.06</td>\n",
       "      <td>19.54</td>\n",
       "      <td>12.470000</td>\n",
       "      <td>0.47</td>\n",
       "      <td>8.55</td>\n",
       "      <td>23.30</td>\n",
       "      <td>2.24000</td>\n",
       "      <td>12.070000</td>\n",
       "      <td>0.730000</td>\n",
       "      <td>41.000000</td>\n",
       "    </tr>\n",
       "    <tr>\n",
       "      <th>29527</th>\n",
       "      <td>Visakhapatnam</td>\n",
       "      <td>2020-06-28</td>\n",
       "      <td>24.380000</td>\n",
       "      <td>74.090000</td>\n",
       "      <td>3.42</td>\n",
       "      <td>26.06</td>\n",
       "      <td>16.53</td>\n",
       "      <td>11.990000</td>\n",
       "      <td>0.52</td>\n",
       "      <td>12.72</td>\n",
       "      <td>30.14</td>\n",
       "      <td>0.74000</td>\n",
       "      <td>2.210000</td>\n",
       "      <td>0.380000</td>\n",
       "      <td>70.000000</td>\n",
       "    </tr>\n",
       "    <tr>\n",
       "      <th>29528</th>\n",
       "      <td>Visakhapatnam</td>\n",
       "      <td>2020-06-29</td>\n",
       "      <td>22.910000</td>\n",
       "      <td>65.730000</td>\n",
       "      <td>3.45</td>\n",
       "      <td>29.53</td>\n",
       "      <td>18.33</td>\n",
       "      <td>10.710000</td>\n",
       "      <td>0.48</td>\n",
       "      <td>8.42</td>\n",
       "      <td>30.96</td>\n",
       "      <td>0.01000</td>\n",
       "      <td>0.010000</td>\n",
       "      <td>0.000000</td>\n",
       "      <td>68.000000</td>\n",
       "    </tr>\n",
       "    <tr>\n",
       "      <th>29529</th>\n",
       "      <td>Visakhapatnam</td>\n",
       "      <td>2020-06-30</td>\n",
       "      <td>16.640000</td>\n",
       "      <td>49.970000</td>\n",
       "      <td>4.05</td>\n",
       "      <td>29.26</td>\n",
       "      <td>18.80</td>\n",
       "      <td>10.030000</td>\n",
       "      <td>0.52</td>\n",
       "      <td>9.84</td>\n",
       "      <td>28.30</td>\n",
       "      <td>0.00000</td>\n",
       "      <td>0.000000</td>\n",
       "      <td>0.000000</td>\n",
       "      <td>54.000000</td>\n",
       "    </tr>\n",
       "    <tr>\n",
       "      <th>29530</th>\n",
       "      <td>Visakhapatnam</td>\n",
       "      <td>2020-07-01</td>\n",
       "      <td>15.000000</td>\n",
       "      <td>66.000000</td>\n",
       "      <td>0.40</td>\n",
       "      <td>26.85</td>\n",
       "      <td>14.05</td>\n",
       "      <td>5.200000</td>\n",
       "      <td>0.59</td>\n",
       "      <td>2.10</td>\n",
       "      <td>17.05</td>\n",
       "      <td>3.28084</td>\n",
       "      <td>8.700972</td>\n",
       "      <td>3.070128</td>\n",
       "      <td>50.000000</td>\n",
       "    </tr>\n",
       "  </tbody>\n",
       "</table>\n",
       "<p>29531 rows × 15 columns</p>\n",
       "</div>"
      ],
      "text/plain": [
       "                City       Date      PM2.5        PM10     NO    NO2    NOx  \\\n",
       "0          Ahmedabad 2015-01-01  67.450578  118.127103   0.92  18.22  17.15   \n",
       "1          Ahmedabad 2015-01-02  67.450578  118.127103   0.97  15.69  16.46   \n",
       "2          Ahmedabad 2015-01-03  67.450578  118.127103  17.40  19.30  29.70   \n",
       "3          Ahmedabad 2015-01-04  67.450578  118.127103   1.70  18.48  17.97   \n",
       "4          Ahmedabad 2015-01-05  67.450578  118.127103  22.10  21.42  37.76   \n",
       "...              ...        ...        ...         ...    ...    ...    ...   \n",
       "29526  Visakhapatnam 2020-06-27  15.020000   50.940000   7.68  25.06  19.54   \n",
       "29527  Visakhapatnam 2020-06-28  24.380000   74.090000   3.42  26.06  16.53   \n",
       "29528  Visakhapatnam 2020-06-29  22.910000   65.730000   3.45  29.53  18.33   \n",
       "29529  Visakhapatnam 2020-06-30  16.640000   49.970000   4.05  29.26  18.80   \n",
       "29530  Visakhapatnam 2020-07-01  15.000000   66.000000   0.40  26.85  14.05   \n",
       "\n",
       "             NH3     CO    SO2      O3  Benzene    Toluene    Xylene  \\\n",
       "0      23.483476   0.92  27.64  133.36  0.00000   0.020000  0.000000   \n",
       "1      23.483476   0.97  24.55   34.06  3.68000   5.500000  3.770000   \n",
       "2      23.483476  17.40  29.07   30.70  6.80000  16.400000  2.250000   \n",
       "3      23.483476   1.70  18.59   36.08  4.43000  10.140000  1.000000   \n",
       "4      23.483476  22.10  39.33   39.31  7.01000  18.890000  2.780000   \n",
       "...          ...    ...    ...     ...      ...        ...       ...   \n",
       "29526  12.470000   0.47   8.55   23.30  2.24000  12.070000  0.730000   \n",
       "29527  11.990000   0.52  12.72   30.14  0.74000   2.210000  0.380000   \n",
       "29528  10.710000   0.48   8.42   30.96  0.01000   0.010000  0.000000   \n",
       "29529  10.030000   0.52   9.84   28.30  0.00000   0.000000  0.000000   \n",
       "29530   5.200000   0.59   2.10   17.05  3.28084   8.700972  3.070128   \n",
       "\n",
       "              AQI  \n",
       "0      166.463581  \n",
       "1      166.463581  \n",
       "2      166.463581  \n",
       "3      166.463581  \n",
       "4      166.463581  \n",
       "...           ...  \n",
       "29526   41.000000  \n",
       "29527   70.000000  \n",
       "29528   68.000000  \n",
       "29529   54.000000  \n",
       "29530   50.000000  \n",
       "\n",
       "[29531 rows x 15 columns]"
      ]
     },
     "execution_count": 20,
     "metadata": {},
     "output_type": "execute_result"
    }
   ],
   "source": [
    "data"
   ]
  },
  {
   "cell_type": "code",
   "execution_count": null,
   "id": "b149e008",
   "metadata": {},
   "outputs": [],
   "source": []
  },
  {
   "cell_type": "code",
   "execution_count": null,
   "id": "2c7b64b1",
   "metadata": {},
   "outputs": [],
   "source": []
  },
  {
   "cell_type": "code",
   "execution_count": 21,
   "id": "3543dfd4",
   "metadata": {},
   "outputs": [
    {
     "data": {
      "text/plain": [
       "{'good': 1341,\n",
       " 'satisfactory': 8224,\n",
       " 'moderate': 15129,\n",
       " 'poor': 2601,\n",
       " 'very_poor': 1241,\n",
       " 'severe': 995}"
      ]
     },
     "execution_count": 21,
     "metadata": {},
     "output_type": "execute_result"
    }
   ],
   "source": [
    "AQI_bucket"
   ]
  },
  {
   "cell_type": "code",
   "execution_count": 22,
   "id": "3856df75",
   "metadata": {},
   "outputs": [],
   "source": [
    "from sklearn.model_selection import train_test_split\n",
    "x_train, x_test, y_train, y_test = train_test_split(x, y, test_size=0.3, random_state=1)"
   ]
  },
  {
   "cell_type": "code",
   "execution_count": 23,
   "id": "2a6b1919",
   "metadata": {},
   "outputs": [],
   "source": [
    "# Feature Scaling (conv high magnitude value to small)\n",
    "# Standardisation (conv values b/w -3 & 3 more or less) \n",
    "# or Normalisation ( Conv values between 0 & 1)\n",
    "# Standardisation is more prefered. \n",
    "\n",
    "from sklearn.preprocessing import StandardScaler\n",
    "sc = StandardScaler()\n",
    "x_train[:, :] = sc.fit_transform(x_train[:, :])\n",
    "x_test[:, :] = sc.fit_transform(x_test[:, :])"
   ]
  },
  {
   "cell_type": "code",
   "execution_count": null,
   "id": "83fad366",
   "metadata": {},
   "outputs": [],
   "source": []
  },
  {
   "cell_type": "markdown",
   "id": "c20e1869",
   "metadata": {},
   "source": [
    "### [LinearRegression model.](https://scikit-learn.org/stable/modules/generated/sklearn.linear_model.LinearRegression.html#sklearn.linear_model.LinearRegression)"
   ]
  },
  {
   "cell_type": "code",
   "execution_count": null,
   "id": "482fe373",
   "metadata": {},
   "outputs": [],
   "source": [
    "# Simple Linear regressor\n",
    "# https://scikit-learn.org/stable/modules/generated/sklearn.linear_model.LinearRegression.html#sklearn.linear_model.LinearRegression\n",
    "from sklearn.linear_model import LinearRegression\n",
    "linear_regressor = LinearRegression()\n",
    "linear_regressor.fit(x_train, y_train)"
   ]
  },
  {
   "cell_type": "code",
   "execution_count": null,
   "id": "80261877",
   "metadata": {},
   "outputs": [],
   "source": [
    "y_pred = linear_regressor.predict(x_test)"
   ]
  },
  {
   "cell_type": "code",
   "execution_count": null,
   "id": "3b6e8e28",
   "metadata": {},
   "outputs": [],
   "source": [
    "# https://scikit-learn.org/stable/modules/classes.html#regression-metrics\n",
    "from sklearn.metrics import r2_score, mean_absolute_error\n",
    "print(\"r2_score: \", r2_score(y_test, y_pred))\n",
    "print(\"mean_absolute_error: \", mean_absolute_error(y_test, y_pred)) # . BAD"
   ]
  },
  {
   "cell_type": "code",
   "execution_count": null,
   "id": "f21ea393",
   "metadata": {},
   "outputs": [],
   "source": [
    "plt.scatter(y_test, y_pred)"
   ]
  },
  {
   "cell_type": "code",
   "execution_count": null,
   "id": "a291de99",
   "metadata": {},
   "outputs": [],
   "source": [
    "sns.displot(y_test - y_pred)"
   ]
  },
  {
   "cell_type": "code",
   "execution_count": null,
   "id": "31042aaa",
   "metadata": {},
   "outputs": [],
   "source": []
  },
  {
   "cell_type": "markdown",
   "id": "cbdee5d0",
   "metadata": {},
   "source": [
    "### [SGDRegressor model.](https://scikitlearn.org/stable/modules/generated/sklearn.linear_model.SGDRegressor.html#sklearn.linear_model.SGDRegressor)"
   ]
  },
  {
   "cell_type": "code",
   "execution_count": null,
   "id": "9357d703",
   "metadata": {},
   "outputs": [],
   "source": [
    "from sklearn.linear_model import SGDRegressor\n",
    "sdg_regressor = SGDRegressor(max_iter=6000, alpha=0.0005, tol=1e-3)\n",
    "sdg_regressor.fit(x_train, y_train)"
   ]
  },
  {
   "cell_type": "code",
   "execution_count": null,
   "id": "bc38fc30",
   "metadata": {},
   "outputs": [],
   "source": [
    "y_pred = sdg_regressor.predict(x_test)"
   ]
  },
  {
   "cell_type": "code",
   "execution_count": null,
   "id": "2712247c",
   "metadata": {},
   "outputs": [],
   "source": [
    "# https://scikit-learn.org/stable/modules/classes.html#regression-metrics\n",
    "from sklearn.metrics import r2_score\n",
    "print(\"r2_score: \", r2_score(y_test, y_pred))\n",
    "print(\"mean_absolute_error: \", mean_absolute_error(y_test, y_pred))"
   ]
  },
  {
   "cell_type": "code",
   "execution_count": null,
   "id": "7560806b",
   "metadata": {},
   "outputs": [],
   "source": []
  },
  {
   "cell_type": "markdown",
   "id": "1730009f",
   "metadata": {},
   "source": [
    "### [XG Boost Regressor model.](https://xgboost.readthedocs.io/en/stable/python/python_api.html#module-xgboost.sklearn)"
   ]
  },
  {
   "cell_type": "code",
   "execution_count": null,
   "id": "4bb94d24",
   "metadata": {},
   "outputs": [],
   "source": [
    "from xgboost import XGBRegressor\n",
    "xgb_regressor = XGBRegressor()"
   ]
  },
  {
   "cell_type": "code",
   "execution_count": null,
   "id": "d9c6cd6f",
   "metadata": {},
   "outputs": [],
   "source": [
    "# in order to find the best parameters for XGBRegressor.\n",
    "# we can use grid search CV https://scikit-learn.org/stable/modules/generated/sklearn.model_selection.GridSearchCV.html\n",
    "# or randomised search CV https://scikit-learn.org/stable/modules/generated/sklearn.model_selection.RandomizedSearchCV.html"
   ]
  },
  {
   "cell_type": "code",
   "execution_count": null,
   "id": "9dd25ebe",
   "metadata": {},
   "outputs": [],
   "source": [
    "from sklearn.model_selection import RandomizedSearchCV"
   ]
  },
  {
   "cell_type": "code",
   "execution_count": null,
   "id": "6936495f",
   "metadata": {},
   "outputs": [],
   "source": [
    "# define param for XGBRegressor\n",
    "\n",
    "n_estimators = [int(x) for x in np.linspace(start=100, stop=1200, num=12)]\n",
    "\n",
    "learning_rate = ['0.05', '0.1', '0.2', '0.3', '0.5', '0.6']\n",
    "\n",
    "max_depth = [int(x) for x in np.linspace(start=5, stop=30, num=6)]\n",
    "\n",
    "subsample = [0.7, 0.6, 0.8]\n",
    "\n",
    "min_child_weight = [3, 4, 5, 6, 7]"
   ]
  },
  {
   "cell_type": "code",
   "execution_count": null,
   "id": "2b966e49",
   "metadata": {},
   "outputs": [],
   "source": [
    "param = {\n",
    "  'n_estimators': n_estimators,\n",
    "  'learning_rate': learning_rate,\n",
    "  'max_depth': max_depth,\n",
    "  'subsample': subsample,\n",
    "  'min_child_weight': min_child_weight\n",
    "}"
   ]
  },
  {
   "cell_type": "code",
   "execution_count": null,
   "id": "b2f08e42",
   "metadata": {},
   "outputs": [],
   "source": [
    "# scoring=r2_square error use 'r2' \n",
    "# https://scikit-learn.org/stable/modules/model_evaluation.html#common-cases-predefined-values\n",
    "xgb_select_param = RandomizedSearchCV(estimator=xgb_regressor, \n",
    "                                      param_distributions=param,\n",
    "                                      scoring='r2',\n",
    "                                      n_iter=10,\n",
    "                                      cv=5,\n",
    "                                      verbose=2,\n",
    "                                      random_state=42,\n",
    "                                      n_jobs=1)"
   ]
  },
  {
   "cell_type": "code",
   "execution_count": null,
   "id": "2076e988",
   "metadata": {},
   "outputs": [],
   "source": [
    "# DONT train locally. use google colab.\n",
    "# xgb_select_param.fit(x_train, y_train) "
   ]
  },
  {
   "cell_type": "code",
   "execution_count": null,
   "id": "90e7b198",
   "metadata": {},
   "outputs": [],
   "source": [
    "# xgb_select_param.best_params_\n",
    "'''\n",
    "for: n_iter = 10\n",
    "{'learning_rate': '0.05',\n",
    "'max_depth': 15,\n",
    "'min_child_weight': 5,\n",
    "'n_estimators': 1200,\n",
    "'subsample': 0.6}\n",
    "'''"
   ]
  },
  {
   "cell_type": "code",
   "execution_count": null,
   "id": "5467715d",
   "metadata": {},
   "outputs": [],
   "source": [
    "xgb_regressor = XGBRegressor(\n",
    "  learning_rate= 0.05,\n",
    "  max_depth= 15,\n",
    "  min_child_weight= 5,\n",
    "  n_estimators= 1200,\n",
    "  subsample= 0.6\n",
    ")"
   ]
  },
  {
   "cell_type": "code",
   "execution_count": null,
   "id": "a7b9d4c8",
   "metadata": {},
   "outputs": [],
   "source": [
    "xgb_regressor.fit(x_train, y_train)"
   ]
  },
  {
   "cell_type": "code",
   "execution_count": null,
   "id": "cdff3cf9",
   "metadata": {},
   "outputs": [],
   "source": [
    "y_pred = xgb_regressor.predict(x_test)"
   ]
  },
  {
   "cell_type": "code",
   "execution_count": null,
   "id": "b2ffc374",
   "metadata": {},
   "outputs": [],
   "source": [
    "from sklearn.metrics import r2_score\n",
    "print(\"r2_score: \", r2_score(y_test, y_pred))\n",
    "print(\"mean_absolute_error: \", mean_absolute_error(y_test, y_pred))"
   ]
  },
  {
   "cell_type": "code",
   "execution_count": null,
   "id": "2930d9ad",
   "metadata": {},
   "outputs": [],
   "source": [
    "# plt.scatter(y_test, y_pred)"
   ]
  },
  {
   "cell_type": "code",
   "execution_count": null,
   "id": "4e73fb6a",
   "metadata": {},
   "outputs": [],
   "source": []
  },
  {
   "cell_type": "markdown",
   "id": "8784509c",
   "metadata": {},
   "source": [
    "### [RandomForestRegressor](https://scikit-learn.org/stable/modules/generated/sklearn.ensemble.RandomForestRegressor.html#sklearn-ensemble-randomforestregressor)"
   ]
  },
  {
   "cell_type": "code",
   "execution_count": 24,
   "id": "3f479dcf",
   "metadata": {},
   "outputs": [],
   "source": [
    "from sklearn.ensemble import RandomForestRegressor\n",
    "rf_regressor = RandomForestRegressor()"
   ]
  },
  {
   "cell_type": "code",
   "execution_count": 25,
   "id": "76fe70b2",
   "metadata": {},
   "outputs": [],
   "source": [
    "from sklearn.model_selection import RandomizedSearchCV"
   ]
  },
  {
   "cell_type": "code",
   "execution_count": 26,
   "id": "0639440b",
   "metadata": {},
   "outputs": [],
   "source": [
    "# define param for rf model.\n",
    "n_estimators = [int(x) for x in np.linspace(start=100, stop=1200, num=12)]\n",
    "\n",
    "max_features = ['auto', 'sqrt']\n",
    "\n",
    "max_depth = [int(x) for x in np.linspace(start=5, stop=30, num=6)]\n",
    "\n",
    "min_samples_split = [2, 5, 10, 15, 100]\n",
    "\n",
    "min_samples_leaf = [1, 2, 5, 10]"
   ]
  },
  {
   "cell_type": "code",
   "execution_count": 27,
   "id": "c70b7234",
   "metadata": {},
   "outputs": [],
   "source": [
    "param = {\n",
    "  'n_estimators': n_estimators,\n",
    "  'max_features': max_features,\n",
    "  'max_depth': max_depth,\n",
    "  'min_samples_split': min_samples_split,\n",
    "  'min_samples_leaf': min_samples_leaf\n",
    "}"
   ]
  },
  {
   "cell_type": "code",
   "execution_count": 28,
   "id": "ff5e2a10",
   "metadata": {},
   "outputs": [],
   "source": [
    "# model selection.\n",
    "# https://scikit-learn.org/stable/modules/model_evaluation.html#common-cases-predefined-values\n",
    "# neg_mean_squared_error for scoring\n",
    "rf_select_param = RandomizedSearchCV(estimator=rf_regressor, \n",
    "                                      param_distributions=param,\n",
    "                                      scoring='neg_mean_squared_error',\n",
    "                                      n_iter=10,\n",
    "                                      cv=5,\n",
    "                                      verbose=2,\n",
    "                                      random_state=42,\n",
    "                                      n_jobs=1)"
   ]
  },
  {
   "cell_type": "code",
   "execution_count": 29,
   "id": "394d5bad",
   "metadata": {},
   "outputs": [],
   "source": [
    "# DONT train locally. use google colab.\n",
    "# rf_select_param.fit(x_train, y_train)"
   ]
  },
  {
   "cell_type": "code",
   "execution_count": 30,
   "id": "5445d095",
   "metadata": {},
   "outputs": [
    {
     "data": {
      "text/plain": [
       "{'max_depth': 25,\n",
       " 'max_features': 'sqrt',\n",
       " 'min_samples_leaf': 1,\n",
       " 'min_samples_split': 2,\n",
       " 'n_estimators': 1000}"
      ]
     },
     "execution_count": 30,
     "metadata": {},
     "output_type": "execute_result"
    }
   ],
   "source": [
    "# rf_select_param.best_params_\n",
    "{'max_depth': 25,\n",
    " 'max_features': 'sqrt',\n",
    " 'min_samples_leaf': 1,\n",
    " 'min_samples_split': 2,\n",
    " 'n_estimators': 1000}"
   ]
  },
  {
   "cell_type": "code",
   "execution_count": 31,
   "id": "35b1f216",
   "metadata": {},
   "outputs": [],
   "source": [
    "rf_regressor = RandomForestRegressor(\n",
    "  max_depth= 25,\n",
    "  max_features= 'sqrt',\n",
    "  min_samples_leaf= 1,\n",
    "  min_samples_split= 2,\n",
    "  n_estimators= 1000\n",
    ")"
   ]
  },
  {
   "cell_type": "code",
   "execution_count": 32,
   "id": "eeb58d26",
   "metadata": {},
   "outputs": [
    {
     "data": {
      "text/plain": [
       "RandomForestRegressor(max_depth=25, max_features='sqrt', n_estimators=1000)"
      ]
     },
     "execution_count": 32,
     "metadata": {},
     "output_type": "execute_result"
    }
   ],
   "source": [
    "rf_regressor.fit(x_train, y_train)"
   ]
  },
  {
   "cell_type": "code",
   "execution_count": 33,
   "id": "3c3b593d",
   "metadata": {},
   "outputs": [],
   "source": [
    "y_pred = rf_regressor.predict(x_test)"
   ]
  },
  {
   "cell_type": "code",
   "execution_count": 34,
   "id": "b7b280c0",
   "metadata": {},
   "outputs": [
    {
     "name": "stdout",
     "output_type": "stream",
     "text": [
      "r2_score:  0.8792953316763155\n"
     ]
    }
   ],
   "source": [
    "from sklearn.metrics import r2_score\n",
    "print(\"r2_score: \", r2_score(y_test, y_pred))\n"
   ]
  },
  {
   "cell_type": "code",
   "execution_count": 35,
   "id": "13bfe212",
   "metadata": {},
   "outputs": [
    {
     "name": "stderr",
     "output_type": "stream",
     "text": [
      "/Users/vagrant/miniforge3/envs/batman/lib/python3.9/site-packages/seaborn/distributions.py:2619: FutureWarning: `distplot` is a deprecated function and will be removed in a future version. Please adapt your code to use either `displot` (a figure-level function with similar flexibility) or `histplot` (an axes-level function for histograms).\n",
      "  warnings.warn(msg, FutureWarning)\n"
     ]
    },
    {
     "data": {
      "image/png": "[encoded data removed]",
      "text/plain": [
       "<Figure size 504x432 with 1 Axes>"
      ]
     },
     "metadata": {
      "needs_background": "light"
     },
     "output_type": "display_data"
    }
   ],
   "source": [
    "plt.figure(figsize=(7, 6))\n",
    "sns.set_theme()\n",
    "sns.set_theme(palette=\"prism_r\")\n",
    "sns.distplot(y_test - y_pred)\n",
    "plt.savefig(\"displot_randomforestreg\")"
   ]
  },
  {
   "cell_type": "code",
   "execution_count": 42,
   "id": "595e871e",
   "metadata": {},
   "outputs": [
    {
     "name": "stderr",
     "output_type": "stream",
     "text": [
      "/Users/vagrant/miniforge3/envs/batman/lib/python3.9/site-packages/seaborn/_decorators.py:36: FutureWarning: Pass the following variables as keyword args: x, y. From version 0.12, the only valid positional argument will be `data`, and passing other arguments without an explicit keyword will result in an error or misinterpretation.\n",
      "  warnings.warn(\n"
     ]
    },
    {
     "data": {
      "image/png": "[encoded data removed]",
      "text/plain": [
       "<Figure size 504x432 with 1 Axes>"
      ]
     },
     "metadata": {},
     "output_type": "display_data"
    }
   ],
   "source": [
    "#plt.scatter(y_test, y_pred)\n",
    "plt.figure(figsize=(7, 6))\n",
    "sns.regplot(y_test, y_pred, ci=None)\n",
    "plt.savefig(\"regplot\")"
   ]
  },
  {
   "cell_type": "markdown",
   "id": "7d729548",
   "metadata": {},
   "source": [
    "### [SVR](https://scikit-learn.org/stable/modules/generated/sklearn.svm.SVR.html#sklearn-svm-svr)"
   ]
  },
  {
   "cell_type": "code",
   "execution_count": null,
   "id": "86a56ffd",
   "metadata": {},
   "outputs": [],
   "source": [
    "from sklearn.svm import SVR\n",
    "svr_regressor = SVR()"
   ]
  },
  {
   "cell_type": "code",
   "execution_count": null,
   "id": "62cd6ce5",
   "metadata": {},
   "outputs": [],
   "source": [
    "from sklearn.model_selection import RandomizedSearchCV"
   ]
  },
  {
   "cell_type": "code",
   "execution_count": null,
   "id": "1573883c",
   "metadata": {},
   "outputs": [],
   "source": [
    "# define param for svr model.\n",
    "from scipy import stats\n",
    "# kernel = ['linear', 'poly', 'rbf']\n",
    "\n",
    "# degree = [int(x) for x in np.linspace(start=3, stop=30, num=6)]\n",
    "\n",
    "# gamma = ['scale', 'auto']\n",
    "\n",
    "# C = [float(x) for x in np.linspace(start=1, stop=15, num=8)]\n",
    "\n",
    "# epsilon = [0.1, 0.3, 0.5, 0.6, 0.8]\n",
    "\n",
    "C = stats.uniform(2, 10)\n",
    "gamma = stats.uniform(0.1, 1)"
   ]
  },
  {
   "cell_type": "code",
   "execution_count": null,
   "id": "d88d4977",
   "metadata": {},
   "outputs": [],
   "source": [
    "param = {\n",
    "  'gamma': gamma,\n",
    "  'C': C\n",
    "}"
   ]
  },
  {
   "cell_type": "code",
   "execution_count": null,
   "id": "cc0166fa",
   "metadata": {},
   "outputs": [],
   "source": [
    "# model selection.\n",
    "# https://scikit-learn.org/stable/modules/model_evaluation.html#common-cases-predefined-values\n",
    "# neg_mean_squared_error for scoring\n",
    "svr_select_param = RandomizedSearchCV(estimator=svr_regressor, \n",
    "                                      param_distributions=param,\n",
    "                                      scoring='neg_mean_squared_error',\n",
    "                                      n_iter=10,\n",
    "                                      cv=5,\n",
    "                                      verbose=2,\n",
    "                                      random_state=42,\n",
    "                                      n_jobs=1)"
   ]
  },
  {
   "cell_type": "code",
   "execution_count": null,
   "id": "f81be04a",
   "metadata": {},
   "outputs": [],
   "source": [
    "# DONT train locally. use google colab.\n",
    "# svr_select_param.fit(x_train, y_train)"
   ]
  },
  {
   "cell_type": "code",
   "execution_count": null,
   "id": "c3b331eb",
   "metadata": {},
   "outputs": [],
   "source": [
    "# svr_select_param.best_params_\n",
    "{'C': 10.324426408004218, 'gamma': 0.31233911067827613}"
   ]
  },
  {
   "cell_type": "code",
   "execution_count": null,
   "id": "e0668222",
   "metadata": {},
   "outputs": [],
   "source": [
    "svr_regressor = SVR(C=10.324426408004218, gamma=0.31233911067827613)"
   ]
  },
  {
   "cell_type": "code",
   "execution_count": null,
   "id": "930a697b",
   "metadata": {},
   "outputs": [],
   "source": [
    "svr_regressor.fit(x_train, y_train)"
   ]
  },
  {
   "cell_type": "code",
   "execution_count": null,
   "id": "01a4694e",
   "metadata": {},
   "outputs": [],
   "source": [
    "y_pred = svr_regressor.predict(x_test)"
   ]
  },
  {
   "cell_type": "code",
   "execution_count": null,
   "id": "86e491f7",
   "metadata": {},
   "outputs": [],
   "source": [
    "from sklearn.metrics import r2_score, mean_absolute_error\n",
    "print(\"r2_score: \", r2_score(y_test, y_pred))\n",
    "print(\"mean_absolute_error: \", mean_absolute_error(y_test, y_pred))"
   ]
  },
  {
   "cell_type": "code",
   "execution_count": null,
   "id": "4e717d9e",
   "metadata": {},
   "outputs": [],
   "source": []
  },
  {
   "cell_type": "markdown",
   "id": "cc8f7ea0",
   "metadata": {},
   "source": [
    "### [DecisionTreeRegressor](https://scikit-learn.org/stable/modules/generated/sklearn.tree.DecisionTreeRegressor.html#sklearn-tree-decisiontreeregressor)"
   ]
  },
  {
   "cell_type": "code",
   "execution_count": null,
   "id": "467691a9",
   "metadata": {},
   "outputs": [],
   "source": [
    "from sklearn.tree import DecisionTreeRegressor\n",
    "dt_regressor = DecisionTreeRegressor()"
   ]
  },
  {
   "cell_type": "code",
   "execution_count": null,
   "id": "9c9a2e90",
   "metadata": {},
   "outputs": [],
   "source": [
    "from sklearn.model_selection import GridSearchCV"
   ]
  },
  {
   "cell_type": "code",
   "execution_count": null,
   "id": "dccd61ef",
   "metadata": {},
   "outputs": [],
   "source": [
    "splitter = ['best', 'random']\n",
    "\n",
    "max_depth = [1, 3, 5, 7, 9, 11, 12]\n",
    "\n",
    "min_samples_leaf = [x for x in range(1, 11)]\n",
    "\n",
    "min_weight_fraction_leaf = [float('%.2f' % (x)) for x in np.linspace(start=0.1, stop=1, num=10)]\n",
    "\n",
    "max_features = ['auto','log2','sqrt', None]\n",
    "\n",
    "max_leaf_nodes = [None , 10, 20, 30, 40, 50, 60, 70, 80, 90]"
   ]
  },
  {
   "cell_type": "code",
   "execution_count": null,
   "id": "4e05c694",
   "metadata": {},
   "outputs": [],
   "source": [
    "param = {\n",
    "  'splitter': splitter,\n",
    "  'max_depth': max_depth,\n",
    "  'min_samples_leaf': min_samples_leaf,\n",
    "  'min_weight_fraction_leaf': min_weight_fraction_leaf,\n",
    "  'max_features': max_features,\n",
    "  'max_leaf_nodes': max_leaf_nodes\n",
    "}"
   ]
  },
  {
   "cell_type": "code",
   "execution_count": null,
   "id": "8f7a444c",
   "metadata": {},
   "outputs": [],
   "source": [
    "dt_select_param = GridSearchCV(\n",
    "  estimator=dt_regressor,\n",
    "  param_grid=param,\n",
    "  scoring='neg_mean_squared_error',\n",
    "  cv=3,\n",
    "  verbose=3\n",
    ")"
   ]
  },
  {
   "cell_type": "code",
   "execution_count": null,
   "id": "ba38fc74",
   "metadata": {},
   "outputs": [],
   "source": [
    "# dt_select_param.fit(x_train, y_train)"
   ]
  },
  {
   "cell_type": "code",
   "execution_count": null,
   "id": "e540afe8",
   "metadata": {},
   "outputs": [],
   "source": [
    "# dt_select_param.best_params_\n",
    "{'max_depth': 5,\n",
    " 'max_features': 'sqrt',\n",
    " 'max_leaf_nodes': 10,\n",
    " 'min_samples_leaf': 9,\n",
    " 'min_weight_fraction_leaf': 0.1,\n",
    " 'splitter': 'best'}"
   ]
  },
  {
   "cell_type": "code",
   "execution_count": null,
   "id": "afdb7d82",
   "metadata": {},
   "outputs": [],
   "source": [
    "dt_regressor = DecisionTreeRegressor(\n",
    "  max_depth= 5,\n",
    "  max_features='sqrt',\n",
    "  max_leaf_nodes= 10,\n",
    "  min_samples_leaf= 9,\n",
    "  min_weight_fraction_leaf= 0.1,\n",
    "  splitter= 'best'\n",
    ")"
   ]
  },
  {
   "cell_type": "code",
   "execution_count": null,
   "id": "61fd96ea",
   "metadata": {},
   "outputs": [],
   "source": [
    "dt_regressor.fit(x_train, y_train)"
   ]
  },
  {
   "cell_type": "code",
   "execution_count": null,
   "id": "d1de8881",
   "metadata": {},
   "outputs": [],
   "source": [
    "y_pred = dt_regressor.predict(x_test)"
   ]
  },
  {
   "cell_type": "code",
   "execution_count": null,
   "id": "36b3b031",
   "metadata": {},
   "outputs": [],
   "source": [
    "from sklearn.metrics import r2_score, mean_absolute_error\n",
    "print(\"r2_score: \", r2_score(y_test, y_pred))\n",
    "print(\"mean_absolute_error: \", mean_absolute_error(y_test, y_pred))"
   ]
  },
  {
   "cell_type": "code",
   "execution_count": null,
   "id": "a1325a08",
   "metadata": {},
   "outputs": [],
   "source": []
  },
  {
   "cell_type": "code",
   "execution_count": null,
   "id": "f58fbf17",
   "metadata": {},
   "outputs": [],
   "source": []
  }
 ],
 "metadata": {
  "kernelspec": {
   "display_name": "Python 3 (ipykernel)",
   "language": "python",
   "name": "python3"
  },
  "language_info": {
   "codemirror_mode": {
    "name": "ipython",
    "version": 3
   },
   "file_extension": ".py",
   "mimetype": "text/x-python",
   "name": "python",
   "nbconvert_exporter": "python",
   "pygments_lexer": "ipython3",
   "version": "3.9.9"
  }
 },
 "nbformat": 4,
 "nbformat_minor": 5
}
