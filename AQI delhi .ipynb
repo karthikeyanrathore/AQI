{
 "cells": [
  {
   "cell_type": "code",
   "execution_count": 24,
   "id": "3894fbb5",
   "metadata": {},
   "outputs": [],
   "source": [
    "import pandas as pd\n",
    "import numpy as np\n",
    "data = pd.read_csv(\"data/delhi/anand-vihar, delhi, delhi, india-air-quality.csv\")"
   ]
  },
  {
   "cell_type": "code",
   "execution_count": 25,
   "id": "424baa7e",
   "metadata": {},
   "outputs": [
    {
     "name": "stdout",
     "output_type": "stream",
     "text": [
      "<class 'pandas.core.frame.DataFrame'>\n",
      "RangeIndex: 2765 entries, 0 to 2764\n",
      "Data columns (total 7 columns):\n",
      " #   Column  Non-Null Count  Dtype \n",
      "---  ------  --------------  ----- \n",
      " 0   date    2765 non-null   object\n",
      " 1    pm25   2765 non-null   object\n",
      " 2    pm10   2765 non-null   object\n",
      " 3    o3     2765 non-null   object\n",
      " 4    no2    2765 non-null   object\n",
      " 5    so2    2765 non-null   object\n",
      " 6    co     2765 non-null   object\n",
      "dtypes: object(7)\n",
      "memory usage: 151.3+ KB\n"
     ]
    }
   ],
   "source": [
    "data.info()"
   ]
  },
  {
   "cell_type": "code",
   "execution_count": 26,
   "id": "9e89e95c",
   "metadata": {},
   "outputs": [
    {
     "data": {
      "text/html": [
       "<div>\n",
       "<style scoped>\n",
       "    .dataframe tbody tr th:only-of-type {\n",
       "        vertical-align: middle;\n",
       "    }\n",
       "\n",
       "    .dataframe tbody tr th {\n",
       "        vertical-align: top;\n",
       "    }\n",
       "\n",
       "    .dataframe thead th {\n",
       "        text-align: right;\n",
       "    }\n",
       "</style>\n",
       "<table border=\"1\" class=\"dataframe\">\n",
       "  <thead>\n",
       "    <tr style=\"text-align: right;\">\n",
       "      <th></th>\n",
       "      <th>date</th>\n",
       "      <th>pm25</th>\n",
       "      <th>pm10</th>\n",
       "      <th>o3</th>\n",
       "      <th>no2</th>\n",
       "      <th>so2</th>\n",
       "      <th>co</th>\n",
       "    </tr>\n",
       "  </thead>\n",
       "  <tbody>\n",
       "    <tr>\n",
       "      <th>0</th>\n",
       "      <td>2022/1/3</td>\n",
       "      <td>405</td>\n",
       "      <td>540</td>\n",
       "      <td>30</td>\n",
       "      <td>43</td>\n",
       "      <td>10</td>\n",
       "      <td>16</td>\n",
       "    </tr>\n",
       "    <tr>\n",
       "      <th>1</th>\n",
       "      <td>2022/1/4</td>\n",
       "      <td>340</td>\n",
       "      <td>386</td>\n",
       "      <td>21</td>\n",
       "      <td>27</td>\n",
       "      <td>7</td>\n",
       "      <td>14</td>\n",
       "    </tr>\n",
       "    <tr>\n",
       "      <th>2</th>\n",
       "      <td>2022/1/5</td>\n",
       "      <td>407</td>\n",
       "      <td>101</td>\n",
       "      <td>5</td>\n",
       "      <td>18</td>\n",
       "      <td>4</td>\n",
       "      <td>12</td>\n",
       "    </tr>\n",
       "    <tr>\n",
       "      <th>3</th>\n",
       "      <td>2022/1/6</td>\n",
       "      <td>188</td>\n",
       "      <td>79</td>\n",
       "      <td>7</td>\n",
       "      <td>15</td>\n",
       "      <td>6</td>\n",
       "      <td>18</td>\n",
       "    </tr>\n",
       "    <tr>\n",
       "      <th>4</th>\n",
       "      <td>2022/1/7</td>\n",
       "      <td>154</td>\n",
       "      <td>51</td>\n",
       "      <td>6</td>\n",
       "      <td>15</td>\n",
       "      <td>3</td>\n",
       "      <td>13</td>\n",
       "    </tr>\n",
       "  </tbody>\n",
       "</table>\n",
       "</div>"
      ],
      "text/plain": [
       "       date  pm25  pm10   o3  no2  so2   co\n",
       "0  2022/1/3   405   540   30   43   10   16\n",
       "1  2022/1/4   340   386   21   27    7   14\n",
       "2  2022/1/5   407   101    5   18    4   12\n",
       "3  2022/1/6   188    79    7   15    6   18\n",
       "4  2022/1/7   154    51    6   15    3   13"
      ]
     },
     "execution_count": 26,
     "metadata": {},
     "output_type": "execute_result"
    }
   ],
   "source": [
    "data.head()"
   ]
  },
  {
   "cell_type": "code",
   "execution_count": 27,
   "id": "e86e7a6d",
   "metadata": {},
   "outputs": [],
   "source": [
    "data['date'] = pd.to_datetime(data['date'])"
   ]
  },
  {
   "cell_type": "code",
   "execution_count": 28,
   "id": "f79aab37",
   "metadata": {},
   "outputs": [
    {
     "data": {
      "text/html": [
       "<div>\n",
       "<style scoped>\n",
       "    .dataframe tbody tr th:only-of-type {\n",
       "        vertical-align: middle;\n",
       "    }\n",
       "\n",
       "    .dataframe tbody tr th {\n",
       "        vertical-align: top;\n",
       "    }\n",
       "\n",
       "    .dataframe thead th {\n",
       "        text-align: right;\n",
       "    }\n",
       "</style>\n",
       "<table border=\"1\" class=\"dataframe\">\n",
       "  <thead>\n",
       "    <tr style=\"text-align: right;\">\n",
       "      <th></th>\n",
       "      <th>date</th>\n",
       "      <th>pm25</th>\n",
       "      <th>pm10</th>\n",
       "      <th>o3</th>\n",
       "      <th>no2</th>\n",
       "      <th>so2</th>\n",
       "      <th>co</th>\n",
       "    </tr>\n",
       "  </thead>\n",
       "  <tbody>\n",
       "    <tr>\n",
       "      <th>2760</th>\n",
       "      <td>2014-03-17</td>\n",
       "      <td></td>\n",
       "      <td>366</td>\n",
       "      <td>17</td>\n",
       "      <td>12</td>\n",
       "      <td>6</td>\n",
       "      <td>9</td>\n",
       "    </tr>\n",
       "    <tr>\n",
       "      <th>2761</th>\n",
       "      <td>2016-02-28</td>\n",
       "      <td></td>\n",
       "      <td></td>\n",
       "      <td>18</td>\n",
       "      <td>43</td>\n",
       "      <td>12</td>\n",
       "      <td></td>\n",
       "    </tr>\n",
       "    <tr>\n",
       "      <th>2762</th>\n",
       "      <td>2014-08-03</td>\n",
       "      <td></td>\n",
       "      <td></td>\n",
       "      <td>92</td>\n",
       "      <td>49</td>\n",
       "      <td>3</td>\n",
       "      <td>12</td>\n",
       "    </tr>\n",
       "    <tr>\n",
       "      <th>2763</th>\n",
       "      <td>2014-08-07</td>\n",
       "      <td></td>\n",
       "      <td></td>\n",
       "      <td>22</td>\n",
       "      <td>41</td>\n",
       "      <td>6</td>\n",
       "      <td>6</td>\n",
       "    </tr>\n",
       "    <tr>\n",
       "      <th>2764</th>\n",
       "      <td>2021-07-31</td>\n",
       "      <td></td>\n",
       "      <td></td>\n",
       "      <td></td>\n",
       "      <td>11</td>\n",
       "      <td>4</td>\n",
       "      <td>12</td>\n",
       "    </tr>\n",
       "  </tbody>\n",
       "</table>\n",
       "</div>"
      ],
      "text/plain": [
       "           date  pm25  pm10   o3  no2  so2   co\n",
       "2760 2014-03-17         366   17   12    6    9\n",
       "2761 2016-02-28               18   43   12     \n",
       "2762 2014-08-03               92   49    3   12\n",
       "2763 2014-08-07               22   41    6    6\n",
       "2764 2021-07-31                    11    4   12"
      ]
     },
     "execution_count": 28,
     "metadata": {},
     "output_type": "execute_result"
    }
   ],
   "source": [
    "data.tail()"
   ]
  },
  {
   "cell_type": "code",
   "execution_count": 29,
   "id": "19a1d7a5",
   "metadata": {},
   "outputs": [],
   "source": [
    "#data['pm25']=data['pm25'].astype(str).astype(int)\n",
    "#data.iloc[:, 1] = data.iloc[:, 1].values.astype(str).astype(float).astype(int)\n",
    "#for x in data.iloc[: ,1].values:\n",
    "    #data.iloc[0 , 1]\n"
   ]
  },
  {
   "cell_type": "code",
   "execution_count": 30,
   "id": "7fb3010f",
   "metadata": {},
   "outputs": [],
   "source": [
    "data.columns = data.columns.str.replace(' ', '')"
   ]
  },
  {
   "cell_type": "code",
   "execution_count": 31,
   "id": "a3e68621",
   "metadata": {},
   "outputs": [],
   "source": [
    "#data.iloc[:, 1:7] = data.iloc[:, 1:7].str.replace(\" \", \"\")\n",
    "#data.iloc[:, 1] = data.iloc[:, 1].values.astype(str).astype(int)\n",
    "#data.info()\n",
    "data['pm25'] = data['pm25'].str.replace(\" \", \"\")\n",
    "data['pm10'] = data['pm25'].str.replace(\" \", \"\")\n",
    "data['o3'] = data['pm25'].str.replace(\" \", \"\")\n",
    "data['no2'] = data['pm25'].str.replace(\" \", \"\")\n",
    "data['so2'] = data['pm25'].str.replace(\" \", \"\")\n",
    "data['co'] = data['pm25'].str.replace(\" \", \"\")"
   ]
  },
  {
   "cell_type": "code",
   "execution_count": 32,
   "id": "ad29c48b",
   "metadata": {},
   "outputs": [
    {
     "name": "stdout",
     "output_type": "stream",
     "text": [
      "<class 'pandas.core.frame.DataFrame'>\n",
      "RangeIndex: 2765 entries, 0 to 2764\n",
      "Data columns (total 7 columns):\n",
      " #   Column  Non-Null Count  Dtype         \n",
      "---  ------  --------------  -----         \n",
      " 0   date    2765 non-null   datetime64[ns]\n",
      " 1   pm25    2765 non-null   object        \n",
      " 2   pm10    2765 non-null   object        \n",
      " 3   o3      2765 non-null   object        \n",
      " 4   no2     2765 non-null   object        \n",
      " 5   so2     2765 non-null   object        \n",
      " 6   co      2765 non-null   object        \n",
      "dtypes: datetime64[ns](1), object(6)\n",
      "memory usage: 151.3+ KB\n"
     ]
    }
   ],
   "source": [
    "data.info()"
   ]
  },
  {
   "cell_type": "code",
   "execution_count": 33,
   "id": "d27ff77f",
   "metadata": {},
   "outputs": [
    {
     "name": "stdout",
     "output_type": "stream",
     "text": [
      "0       405\n",
      "1       340\n",
      "2       407\n",
      "3       188\n",
      "4       154\n",
      "       ... \n",
      "2760       \n",
      "2761       \n",
      "2762       \n",
      "2763       \n",
      "2764       \n",
      "Name: pm25, Length: 2765, dtype: object\n"
     ]
    }
   ],
   "source": [
    "print(data.iloc[:, 1])"
   ]
  },
  {
   "cell_type": "code",
   "execution_count": 34,
   "id": "82a6099b",
   "metadata": {},
   "outputs": [
    {
     "data": {
      "text/plain": [
       "0      2022-01-03\n",
       "1      2022-01-04\n",
       "2      2022-01-05\n",
       "3      2022-01-06\n",
       "4      2022-01-07\n",
       "          ...    \n",
       "2760   2014-03-17\n",
       "2761   2016-02-28\n",
       "2762   2014-08-03\n",
       "2763   2014-08-07\n",
       "2764   2021-07-31\n",
       "Name: date, Length: 2765, dtype: datetime64[ns]"
      ]
     },
     "execution_count": 34,
     "metadata": {},
     "output_type": "execute_result"
    }
   ],
   "source": [
    "data['date']"
   ]
  },
  {
   "cell_type": "code",
   "execution_count": 35,
   "id": "867e4568",
   "metadata": {},
   "outputs": [],
   "source": [
    "import numpy as np\n",
    "data = data.replace(r'^\\s*$', np.nan, regex=True)"
   ]
  },
  {
   "cell_type": "code",
   "execution_count": 36,
   "id": "c9bcb6e1",
   "metadata": {},
   "outputs": [
    {
     "data": {
      "text/html": [
       "<div>\n",
       "<style scoped>\n",
       "    .dataframe tbody tr th:only-of-type {\n",
       "        vertical-align: middle;\n",
       "    }\n",
       "\n",
       "    .dataframe tbody tr th {\n",
       "        vertical-align: top;\n",
       "    }\n",
       "\n",
       "    .dataframe thead th {\n",
       "        text-align: right;\n",
       "    }\n",
       "</style>\n",
       "<table border=\"1\" class=\"dataframe\">\n",
       "  <thead>\n",
       "    <tr style=\"text-align: right;\">\n",
       "      <th></th>\n",
       "      <th>date</th>\n",
       "      <th>pm25</th>\n",
       "      <th>pm10</th>\n",
       "      <th>o3</th>\n",
       "      <th>no2</th>\n",
       "      <th>so2</th>\n",
       "      <th>co</th>\n",
       "    </tr>\n",
       "  </thead>\n",
       "  <tbody>\n",
       "    <tr>\n",
       "      <th>2760</th>\n",
       "      <td>2014-03-17</td>\n",
       "      <td>NaN</td>\n",
       "      <td>NaN</td>\n",
       "      <td>NaN</td>\n",
       "      <td>NaN</td>\n",
       "      <td>NaN</td>\n",
       "      <td>NaN</td>\n",
       "    </tr>\n",
       "    <tr>\n",
       "      <th>2761</th>\n",
       "      <td>2016-02-28</td>\n",
       "      <td>NaN</td>\n",
       "      <td>NaN</td>\n",
       "      <td>NaN</td>\n",
       "      <td>NaN</td>\n",
       "      <td>NaN</td>\n",
       "      <td>NaN</td>\n",
       "    </tr>\n",
       "    <tr>\n",
       "      <th>2762</th>\n",
       "      <td>2014-08-03</td>\n",
       "      <td>NaN</td>\n",
       "      <td>NaN</td>\n",
       "      <td>NaN</td>\n",
       "      <td>NaN</td>\n",
       "      <td>NaN</td>\n",
       "      <td>NaN</td>\n",
       "    </tr>\n",
       "    <tr>\n",
       "      <th>2763</th>\n",
       "      <td>2014-08-07</td>\n",
       "      <td>NaN</td>\n",
       "      <td>NaN</td>\n",
       "      <td>NaN</td>\n",
       "      <td>NaN</td>\n",
       "      <td>NaN</td>\n",
       "      <td>NaN</td>\n",
       "    </tr>\n",
       "    <tr>\n",
       "      <th>2764</th>\n",
       "      <td>2021-07-31</td>\n",
       "      <td>NaN</td>\n",
       "      <td>NaN</td>\n",
       "      <td>NaN</td>\n",
       "      <td>NaN</td>\n",
       "      <td>NaN</td>\n",
       "      <td>NaN</td>\n",
       "    </tr>\n",
       "  </tbody>\n",
       "</table>\n",
       "</div>"
      ],
      "text/plain": [
       "           date pm25 pm10   o3  no2  so2   co\n",
       "2760 2014-03-17  NaN  NaN  NaN  NaN  NaN  NaN\n",
       "2761 2016-02-28  NaN  NaN  NaN  NaN  NaN  NaN\n",
       "2762 2014-08-03  NaN  NaN  NaN  NaN  NaN  NaN\n",
       "2763 2014-08-07  NaN  NaN  NaN  NaN  NaN  NaN\n",
       "2764 2021-07-31  NaN  NaN  NaN  NaN  NaN  NaN"
      ]
     },
     "execution_count": 36,
     "metadata": {},
     "output_type": "execute_result"
    }
   ],
   "source": [
    "data.tail()"
   ]
  },
  {
   "cell_type": "code",
   "execution_count": 37,
   "id": "1ffdf000",
   "metadata": {},
   "outputs": [],
   "source": [
    "#data['pm25'] = data['pm25'].astype(int)\n",
    "data['pm25'] = pd.to_numeric(data['pm25'], errors='coerce')\n",
    "data['pm10'] = pd.to_numeric(data['pm10'], errors='coerce')\n",
    "data['o3'] = pd.to_numeric(data['o3'], errors='coerce')\n",
    "data['no2'] = pd.to_numeric(data['no2'], errors='coerce')\n",
    "data['so2'] = pd.to_numeric(data['so2'], errors='coerce')\n",
    "data['co'] = pd.to_numeric(data['co'], errors='coerce')"
   ]
  },
  {
   "cell_type": "code",
   "execution_count": 38,
   "id": "3bcc97b1",
   "metadata": {},
   "outputs": [
    {
     "name": "stdout",
     "output_type": "stream",
     "text": [
      "<class 'pandas.core.frame.DataFrame'>\n",
      "RangeIndex: 2765 entries, 0 to 2764\n",
      "Data columns (total 7 columns):\n",
      " #   Column  Non-Null Count  Dtype         \n",
      "---  ------  --------------  -----         \n",
      " 0   date    2765 non-null   datetime64[ns]\n",
      " 1   pm25    2674 non-null   float64       \n",
      " 2   pm10    2674 non-null   float64       \n",
      " 3   o3      2674 non-null   float64       \n",
      " 4   no2     2674 non-null   float64       \n",
      " 5   so2     2674 non-null   float64       \n",
      " 6   co      2674 non-null   float64       \n",
      "dtypes: datetime64[ns](1), float64(6)\n",
      "memory usage: 151.3 KB\n"
     ]
    }
   ],
   "source": [
    "data.info()"
   ]
  },
  {
   "cell_type": "code",
   "execution_count": 39,
   "id": "27d87de0",
   "metadata": {},
   "outputs": [
    {
     "data": {
      "text/plain": [
       "date     0\n",
       "pm25    91\n",
       "pm10    91\n",
       "o3      91\n",
       "no2     91\n",
       "so2     91\n",
       "co      91\n",
       "dtype: int64"
      ]
     },
     "execution_count": 39,
     "metadata": {},
     "output_type": "execute_result"
    }
   ],
   "source": [
    "data.isnull().sum()"
   ]
  },
  {
   "cell_type": "code",
   "execution_count": 40,
   "id": "a910b4d6",
   "metadata": {},
   "outputs": [],
   "source": [
    "#data[\"pm5\"]= data['pm25'].to_numpy()"
   ]
  },
  {
   "cell_type": "code",
   "execution_count": 41,
   "id": "558fc2c5",
   "metadata": {},
   "outputs": [],
   "source": [
    "#data['pm25'] = np.reshape(data['pm25'],(1, data['pm25'].size))\n",
    "#data['pm25'] = np.array(data['pm25'].values)"
   ]
  },
  {
   "cell_type": "code",
   "execution_count": 42,
   "id": "ce68d5fc",
   "metadata": {},
   "outputs": [],
   "source": [
    "#data['pm25'].values.reshape(-1, 1)"
   ]
  },
  {
   "cell_type": "code",
   "execution_count": 43,
   "id": "e5c79611",
   "metadata": {},
   "outputs": [
    {
     "data": {
      "text/plain": [
       "0       405.0\n",
       "1       340.0\n",
       "2       407.0\n",
       "3       188.0\n",
       "4       154.0\n",
       "        ...  \n",
       "2760      NaN\n",
       "2761      NaN\n",
       "2762      NaN\n",
       "2763      NaN\n",
       "2764      NaN\n",
       "Name: pm25, Length: 2765, dtype: float64"
      ]
     },
     "execution_count": 43,
     "metadata": {},
     "output_type": "execute_result"
    }
   ],
   "source": [
    "data['pm25']"
   ]
  },
  {
   "cell_type": "code",
   "execution_count": null,
   "id": "c895a4f8",
   "metadata": {},
   "outputs": [],
   "source": [
    "# TODO SET INDEX\n",
    "#x = data.iloc[: , 1].values\n",
    "#y = data.iloc[: , ]"
   ]
  },
  {
   "cell_type": "code",
   "execution_count": null,
   "id": "2aef6a17",
   "metadata": {},
   "outputs": [],
   "source": []
  },
  {
   "cell_type": "code",
   "execution_count": null,
   "id": "fff33422",
   "metadata": {},
   "outputs": [],
   "source": []
  },
  {
   "cell_type": "code",
   "execution_count": null,
   "id": "3e85a5f4",
   "metadata": {},
   "outputs": [],
   "source": []
  }
 ],
 "metadata": {
  "kernelspec": {
   "display_name": "Python 3 (ipykernel)",
   "language": "python",
   "name": "python3"
  },
  "language_info": {
   "codemirror_mode": {
    "name": "ipython",
    "version": 3
   },
   "file_extension": ".py",
   "mimetype": "text/x-python",
   "name": "python",
   "nbconvert_exporter": "python",
   "pygments_lexer": "ipython3",
   "version": "3.9.9"
  }
 },
 "nbformat": 4,
 "nbformat_minor": 5
}
